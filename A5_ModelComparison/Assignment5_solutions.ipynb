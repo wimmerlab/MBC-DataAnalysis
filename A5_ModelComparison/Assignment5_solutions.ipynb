{
 "cells": [
  {
   "cell_type": "markdown",
   "metadata": {
    "id": "8ibEsfuCyvJE"
   },
   "source": [
    "# Assignment 5\n",
    "## Statistical inference, bootstrap and model comparison\n",
    "\n",
    "**In this assignment, we will see how to compute bootstrapped confidence intervals and how to do model comparison.**\n",
    "\n",
    "- Learn how to use bootstrapping to generate new sample datasets\n",
    "- Estimate our model parameter on these new sample datasets\n",
    "- Quantify the uncertainty about our parameter estimate using confidence intervals\n",
    "\n",
    "- Compare which statistical model better explains an experimental dataset using penalized log-likelihood metrics (AIC, BIC) or by splitting the data into one part used to estimate model parameters and one part to test the estimated model (cross-validation)"
   ]
  },
  {
   "cell_type": "markdown",
   "metadata": {
    "id": "za5yFvk_yvJJ"
   },
   "source": [
    "<div class=\"alert alert-block alert-warning\">\n",
    "<b>Preparing for this assignment:</b> \n",
    "\n",
    "The following resources will help you to get ready to complete this assignment. <br>\n",
    "Watch <a href=\"https://youtu.be/9JfXKmVB6qc?t=910\" target=\"_blank\">the second part of this video</a> to have a quick overview of how to assess model fits. Remember that all types of regression analysis and statistical test can be seen as testing how well a generative model (i.e. a linear model with noise) can explain your data. Then watch these series of short videos on more specific topics (all these videos are taken from the <a href=\"https://compneuro.neuromatch.io/tutorials/W1D2_ModelFitting/chapter_title.html\" target=\"_blank\">tutorials of the Model Fitting day at Neuromatch Academy</a>):\n",
    "        <li><a href=\"https://youtu.be/hs6bVGQNSIs\" target=\"_blank\">this video</a> on bootstrapping the estimate the confidence intervals for your model parameters</li>\n",
    "        <li> <a href=\"https://youtu.be/NcUH_seBcVw\" target=\"_blank\">this video</a> on the bias-variance trade-off, which provides the conceptual basis for model selection, i.e. finding a model that fits the data well while keeping model complexity as low as possible. For statistical analysis, this is equivalent to look for the significant effects as components that we must include in the model in order to capture the structure of the data.</li>\n",
    "        <li> <a href=\"https://youtu.be/OtKw0rSRxo4\" target=\"_blank\">this video</a> about how to perform model comparison in practice by testing the model on a test set (i.e. a part of the dataset that was not used for estimating the parameters), and how this is generalized in <b>cross-validation</b></li>"
   ]
  },
  {
   "cell_type": "markdown",
   "metadata": {},
   "source": [
    "---\n",
    "# Setup\n",
    "\n",
    "We will keep working on the same example as in Assignments 3 and 4 (psychometric curves and logistic regression).\n",
    "\n",
    "We start by importing the typical libraries, importing the data as a dataframe and adding the relevant columns."
   ]
  },
  {
   "cell_type": "code",
   "execution_count": 1,
   "metadata": {
    "ExecuteTime": {
     "end_time": "2022-02-09T22:27:37.824993Z",
     "start_time": "2022-02-09T22:27:36.401990Z"
    },
    "id": "2aF-qjnYk_2s"
   },
   "outputs": [
    {
     "data": {
      "text/html": [
       "<div>\n",
       "<style scoped>\n",
       "    .dataframe tbody tr th:only-of-type {\n",
       "        vertical-align: middle;\n",
       "    }\n",
       "\n",
       "    .dataframe tbody tr th {\n",
       "        vertical-align: top;\n",
       "    }\n",
       "\n",
       "    .dataframe thead th {\n",
       "        text-align: right;\n",
       "    }\n",
       "</style>\n",
       "<table border=\"1\" class=\"dataframe\">\n",
       "  <thead>\n",
       "    <tr style=\"text-align: right;\">\n",
       "      <th></th>\n",
       "      <th>subject</th>\n",
       "      <th>load</th>\n",
       "      <th>delay</th>\n",
       "      <th>target</th>\n",
       "      <th>probe</th>\n",
       "      <th>near</th>\n",
       "      <th>response</th>\n",
       "      <th>displacement</th>\n",
       "    </tr>\n",
       "  </thead>\n",
       "  <tbody>\n",
       "    <tr>\n",
       "      <th>0</th>\n",
       "      <td>1</td>\n",
       "      <td>3</td>\n",
       "      <td>0.1</td>\n",
       "      <td>24</td>\n",
       "      <td>18</td>\n",
       "      <td>10</td>\n",
       "      <td>1</td>\n",
       "      <td>-6.0</td>\n",
       "    </tr>\n",
       "    <tr>\n",
       "      <th>1</th>\n",
       "      <td>1</td>\n",
       "      <td>3</td>\n",
       "      <td>0.1</td>\n",
       "      <td>307</td>\n",
       "      <td>311</td>\n",
       "      <td>296</td>\n",
       "      <td>1</td>\n",
       "      <td>4.0</td>\n",
       "    </tr>\n",
       "    <tr>\n",
       "      <th>2</th>\n",
       "      <td>1</td>\n",
       "      <td>3</td>\n",
       "      <td>0.1</td>\n",
       "      <td>151</td>\n",
       "      <td>147</td>\n",
       "      <td>289</td>\n",
       "      <td>0</td>\n",
       "      <td>-4.0</td>\n",
       "    </tr>\n",
       "    <tr>\n",
       "      <th>3</th>\n",
       "      <td>1</td>\n",
       "      <td>4</td>\n",
       "      <td>0.1</td>\n",
       "      <td>326</td>\n",
       "      <td>334</td>\n",
       "      <td>32</td>\n",
       "      <td>1</td>\n",
       "      <td>8.0</td>\n",
       "    </tr>\n",
       "    <tr>\n",
       "      <th>4</th>\n",
       "      <td>1</td>\n",
       "      <td>3</td>\n",
       "      <td>0.1</td>\n",
       "      <td>73</td>\n",
       "      <td>77</td>\n",
       "      <td>60</td>\n",
       "      <td>1</td>\n",
       "      <td>4.0</td>\n",
       "    </tr>\n",
       "  </tbody>\n",
       "</table>\n",
       "</div>"
      ],
      "text/plain": [
       "   subject  load  delay  target  probe  near  response  displacement\n",
       "0        1     3    0.1      24     18    10         1          -6.0\n",
       "1        1     3    0.1     307    311   296         1           4.0\n",
       "2        1     3    0.1     151    147   289         0          -4.0\n",
       "3        1     4    0.1     326    334    32         1           8.0\n",
       "4        1     3    0.1      73     77    60         1           4.0"
      ]
     },
     "execution_count": 1,
     "metadata": {},
     "output_type": "execute_result"
    }
   ],
   "source": [
    "#1. Load the packages that we will need\n",
    "import numpy as np\n",
    "import matplotlib.pyplot as plt\n",
    "import pandas as pd\n",
    "import statsmodels.formula.api as smf\n",
    "import statsmodels.api as sm\n",
    "\n",
    "\n",
    "# 2. load the data\n",
    "df = pd.read_csv(\"https://raw.githubusercontent.com/wimmerlab/MBC-DataAnalysis/main/A3_PsychometricCurves/Experiment1_all_subjects.csv\",sep=',')\n",
    "\n",
    "# 3. Define a function that takes two angles as input and outputs the angular distance between the two\n",
    "def circ_dist(angles1,angles2): #define the name and set the arguments between parentheses\n",
    "    angle_diff = angles2 - angles1 # simple difference\n",
    "    angle_diff_rad = angle_diff*np.pi/180 # convert to radians\n",
    "    angular_dist_rad = np.angle( np.exp(1j*(angle_diff_rad))) ## mathematical operation to get the circular distance (in radians)\n",
    "    angular_dist = 180/np.pi*angular_dist_rad ## convert back to degrees\n",
    "    output = np.round(angular_dist) # round value to eliminate numerical imprecisions (all values are integer)\n",
    "    return output #return the circular distance in degrees \n",
    "\n",
    "# 4. Compute the displacement of the probe from the target and add it as a new column to the dataframe: \n",
    "df['displacement'] = circ_dist( df['target'], df['probe'] );\n",
    "\n",
    "# 5. change the column 'response': all -1's become 1's and 1s become 0's\n",
    "df.response *= -1 # multiply by -1, so now 1 codes for CCW and -1 for CW\n",
    "df.loc[df.response==-1, 'response'] = 0 # convert -1s to 0s, so now 1 codes for CCW and 0 for CW\n",
    "\n",
    "df.head()"
   ]
  },
  {
   "cell_type": "markdown",
   "metadata": {},
   "source": [
    "**Helper functions**\n",
    "\n",
    "There is nothing really new here as these functions were already used in Assignment 2. They are here to make your life easier. Have a look at what they are doing and use them in your code below."
   ]
  },
  {
   "cell_type": "code",
   "execution_count": 2,
   "metadata": {},
   "outputs": [],
   "source": [
    "def logistic(x):\n",
    "    \"\"\"\n",
    "    Returns the output of the logistic function for the given input value (float or array-like).\n",
    "    \"\"\"\n",
    "    y = 1 / (1 + np.exp(-x))\n",
    "    return y\n",
    "\n",
    "def psychometric_model(d, w0, w1):\n",
    "    \"\"\"\n",
    "    Compute the psychometric function based on a simple logistic model. \n",
    "    Args:\n",
    "       d (ndarray): input values.\n",
    "       w0 (float): intercept for logistic regression.\n",
    "       w1 (float): slope for logistic regression.\n",
    "    Returns:\n",
    "       ndarray: The `y` data points of the psychometric function. \n",
    "          In our case, this corresponds to the probability of CCW responses.\n",
    "    \"\"\"\n",
    "    p = logistic(w0 + w1*d)\n",
    "    return p\n",
    "\n",
    "def plotcurve(df, color):\n",
    "    \"\"\"\n",
    "    Plot the fitted psychometric curve with experimental datapoints on top. \n",
    "    Args:\n",
    "       df (dataframe): experimental data\n",
    "       color (string): color of the datapoints and fitted line\n",
    "    \"\"\"\n",
    "\n",
    "    mod = smf.glm(formula='response ~ displacement', data=df, family=sm.families.Binomial())\n",
    "    res = mod.fit()\n",
    "    \n",
    "    myx = np.linspace(-20,20,100)\n",
    "    yfit=res.predict(pd.DataFrame({'displacement': myx}))\n",
    "\n",
    "    # plot the psychometric function (fit)\n",
    "    plt.plot(myx,yfit,'-', color=color,label='fit')\n",
    "    \n",
    "    # plot the psychometric curve (datapoints)\n",
    "    df.groupby('displacement').response.agg(('mean','sem')).plot(yerr='sem', color=color, fmt = 'o', ax=plt.gca(), label='data');\n",
    "    "
   ]
  },
  {
   "cell_type": "markdown",
   "metadata": {},
   "source": [
    "**Show psychometric curve for subject 1**\n",
    "\n",
    "Your first task is to use the provided function `plotcurve` to plot the psychometric curve of subject 1.\n",
    "- Select the data of subject number 1\n",
    "- Use the pre-defined functions from above to plot the psychometric curve (datapoints and fit).\n",
    "\n",
    "*For parts 1 and 2 of this assignment, we will work with the data of this subject.*"
   ]
  },
  {
   "cell_type": "code",
   "execution_count": 3,
   "metadata": {},
   "outputs": [
    {
     "data": {
      "image/png": "[encoded data removed]",
      "text/plain": [
       "<Figure size 640x480 with 1 Axes>"
      ]
     },
     "metadata": {},
     "output_type": "display_data"
    }
   ],
   "source": [
    "# select subject 1\n",
    "ds = df[df.subject == 1]\n",
    "\n",
    "# plot the psychometric curve\n",
    "fig, ax = plt.subplots()\n",
    "plotcurve(ds,'b')\n",
    "ax.set(xlabel='displacement (degrees)', ylabel='p(CCW)');\n",
    "ax.legend();"
   ]
  },
  {
   "cell_type": "markdown",
   "metadata": {},
   "source": [
    "---\n",
    "# 1. Bootstrapping\n",
    "\n",
    "[Bootstrapping](https://en.wikipedia.org/wiki/Bootstrapping_(statistics)) is a widely applicable method to assess confidence/uncertainty about estimated parameters from a given model, it was originally [proposed](https://projecteuclid.org/euclid.aos/1176344552) by [Bradley Efron](https://en.wikipedia.org/wiki/Bradley_Efron). We will apply it here for a logistic regression model but it really can be used for model parameters from any statistical model, or even for any metric of a dataset. For example, boostrapping is the method of choice to estimate confidence interval for the median value of a dataset. Boostrapping consists in :\n",
    "- generating many new synthetic datasets from the initial true dataset by randomly sampling from it\n",
    "- then, estimating the model parameters for each one of these new datasets\n",
    "- finally, looking at the distribution of all these estimators to quantify our confidence.\n",
    "\n",
    "Note that each new resampled datasets will be the same size as our original one, with the new data points sampled with replacement i.e. the same data point can appear multiple times in a resampled dataset. Also note that in practice we need a lot of resampled datasets to get robust distribution of the parameters, here we use 2000.\n",
    "\n",
    "To explore this idea, we will work with the data from subject 1 and consider a simple logistic regression model for predicting the subject's responses from the angular displacement of the target and probe."
   ]
  },
  {
   "cell_type": "markdown",
   "metadata": {},
   "source": [
    "## 1.1 Resample Dataset with Replacement\n",
    "\n",
    "In this exercise you will implement a method to resample a dataset with replacement. The method accepts $\\mathbf{x}$ and $\\mathbf{y}$ arrays. It should return a new set of $\\mathbf{x}'$ and $\\mathbf{y}'$ arrays that are created by randomly sampling from the originals.\n",
    "\n",
    "We will then compare the slope and intercept estimated in the original dataset and in the resampled dataset to get a feeling of how resampling affects these estimates."
   ]
  },
  {
   "cell_type": "markdown",
   "metadata": {},
   "source": [
    "**Hint:** The [numpy.random.choice](https://numpy.org/doc/stable/reference/random/generated/numpy.random.choice.html) method will be useful here. Before you start to implement the resampling function, first make sure that you understand the following two lines of code."
   ]
  },
  {
   "cell_type": "code",
   "execution_count": 4,
   "metadata": {},
   "outputs": [
    {
     "name": "stdout",
     "output_type": "stream",
     "text": [
      "[2 4 8 7 9 1 6 5 0 3]\n",
      "[5 2 0 2 9 8 6 2 6 6]\n"
     ]
    }
   ],
   "source": [
    "print(np.random.choice(10, size=10, replace=False))\n",
    "print(np.random.choice(10, size=10, replace=True))"
   ]
  },
  {
   "cell_type": "markdown",
   "metadata": {},
   "source": [
    "Both lines generate a random sequence of the numbers 1-10.\n",
    "In the case *without* replacement (top), this gives a permutation of the numbers, i.e. each number appears once and only once.\n",
    "If we sample *with* replacement (bottom), some of the numbers may be repeated, some may be absent.\n",
    "\n",
    "Bootstrapping relies on sampling with replacement."
   ]
  },
  {
   "cell_type": "markdown",
   "metadata": {},
   "source": [
    "**Complete the following function which we will use to generate the bootstrap samples.** The function takes the values of the regressors `x` and dependent variable `y` from the original dataset, and outputs new variables where the data points (e.g. trials) have been sample with replacement."
   ]
  },
  {
   "cell_type": "code",
   "execution_count": 5,
   "metadata": {},
   "outputs": [],
   "source": [
    "def resample_with_replacement(x, y):\n",
    "    \"\"\"Resample data points with replacement from the dataset of `x` inputs and\n",
    "    `y` measurements.\n",
    "    Args:\n",
    "    x (ndarray): An array of shape (samples,) that contains the input values.\n",
    "    y (ndarray): An array of shape (samples,) that contains the corresponding\n",
    "    measurement values to the inputs.\n",
    "    Returns:\n",
    "    ndarray, ndarray: The newly resampled `x` and `y` data points.\n",
    "    \"\"\"\n",
    "    \n",
    "    # number of datapoints\n",
    "    nData= len(x)\n",
    "\n",
    "    # Get array of indices for resampled points\n",
    "    sample_idx = np.random.choice(nData, size=nData, replace=True)\n",
    "\n",
    "    # Sample from x and y according to sample_idx\n",
    "    x_ = x[sample_idx]\n",
    "    y_ = y[sample_idx]\n",
    "\n",
    "    return x_, y_"
   ]
  },
  {
   "cell_type": "markdown",
   "metadata": {},
   "source": [
    "**Generate resampled data and display the psychometric curves for the original and the resampled data.**\n",
    "\n",
    "Repeat this several times to get a feeling for the \"randomness\", that is how different the resampled data is from the original data.\n",
    "Note that `values` (in the first line) returns the numerical data contained in the dataframe (a numpy array)."
   ]
  },
  {
   "cell_type": "code",
   "execution_count": 6,
   "metadata": {},
   "outputs": [
    {
     "data": {
      "image/png": "[encoded data removed]",
      "text/plain": [
       "<Figure size 640x480 with 1 Axes>"
      ]
     },
     "metadata": {},
     "output_type": "display_data"
    }
   ],
   "source": [
    "# resample the data\n",
    "x_, y_ = resample_with_replacement(ds.displacement.values, ds.response.values)\n",
    "\n",
    "# place the resampled data in a dataframe\n",
    "ds_resampled = pd.DataFrame({'displacement': x_, 'response': y_})\n",
    "\n",
    "# plot the psychometric curve\n",
    "fig, ax = plt.subplots()\n",
    "plotcurve(ds,'b')\n",
    "plotcurve(ds_resampled,'r')\n",
    "ax.set(xlabel='displacement (degrees)', ylabel='p(CCW)');\n",
    "plt.legend(('Original','Resampled'));"
   ]
  },
  {
   "cell_type": "markdown",
   "metadata": {},
   "source": [
    "Now that we have a way to resample the data, we can use that in the full bootstrapping process."
   ]
  },
  {
   "cell_type": "markdown",
   "metadata": {},
   "source": [
    "## 1.2 Bootstrap Estimates\n",
    "\n",
    "In this exercise you will implement a method to run the bootstrap process of generating a set of logistic regression weights $w_0$ and $w_1$ from resampled datasets of inputs ($\\mathbf{x}$, the displacement of target and probe) and  measurements ($\\mathbf{y}$, the subject's responses). You should use `resample_with_replacement` here.\n",
    "\n",
    "We will then use this function to look at the $w_0$ and $w_1$ values obtained from different samples."
   ]
  },
  {
   "cell_type": "markdown",
   "metadata": {
    "id": "Jm1FXeU1yvJb"
   },
   "source": [
    "First **complete the following function that runs a simple logistic regression as in Assignment 4**.\n",
    "Just as a reminder, we consider the influence onto our binary variable (choices) of a single variable: the displacement of the probe w.r.t the target stimulus (the parameter that controls the difficulty of the trial).\n",
    "Defining this function is useful because the only result that we want to store for the 2000 bootstrap samples are the values of the regression weights $w_0$ and $w_1$. Also, defining the function will make our later code easier to read.\n"
   ]
  },
  {
   "cell_type": "code",
   "execution_count": 7,
   "metadata": {
    "ExecuteTime": {
     "end_time": "2022-02-09T22:27:38.970245Z",
     "start_time": "2022-02-09T22:27:37.900143Z"
    },
    "colab": {
     "base_uri": "https://localhost:8080/"
    },
    "id": "tjkbo6dTk_3F",
    "outputId": "cfd0e3bb-7d82-46d1-b0b6-8ad09244e602"
   },
   "outputs": [],
   "source": [
    "# @markdown Execute this cell for helper function `solve_log_regression`\n",
    "def solve_log_regression(df):\n",
    "    \"\"\"Solve the logistic regression\n",
    "\n",
    "    Args:\n",
    "    df:dataframe\n",
    "\n",
    "  Returns:\n",
    "    float: the value for theta_hat arrived from minimizing MSE\n",
    "    \"\"\"\n",
    "\n",
    "    # declare the logistic regression model\n",
    "    mod = smf.glm(formula= 'response ~ displacement' , data= df , family= sm.families.Binomial() )\n",
    "\n",
    "    # fit the model\n",
    "    res = mod.fit()\n",
    "\n",
    "    return res.params[0], res.params[1]"
   ]
  },
  {
   "cell_type": "markdown",
   "metadata": {},
   "source": [
    "**Use your function to estimate the regression weights for the original data and the resampled data from above** (just to see if everything works correctly."
   ]
  },
  {
   "cell_type": "code",
   "execution_count": 8,
   "metadata": {},
   "outputs": [
    {
     "name": "stdout",
     "output_type": "stream",
     "text": [
      "original data:\n",
      "w_0 =  0.2690967358301604 w_1 =  0.1343499904128981\n",
      "resampled data:\n",
      "w_0 =  0.344956284919738 w_1 =  0.12636655808042574\n"
     ]
    }
   ],
   "source": [
    "w0,w1 = solve_log_regression(ds)\n",
    "print(\"original data:\")\n",
    "print(\"w_0 = \", w0,\"w_1 = \", w1)\n",
    "w0_resampled,w1_resampled = solve_log_regression(ds_resampled)\n",
    "print(\"resampled data:\")\n",
    "print(\"w_0 = \", w0_resampled,\"w_1 = \", w1_resampled)"
   ]
  },
  {
   "cell_type": "markdown",
   "metadata": {
    "id": "Oj7o1xyxyvJg"
   },
   "source": [
    "**We are now ready to implement the bootstrap function**"
   ]
  },
  {
   "cell_type": "code",
   "execution_count": 9,
   "metadata": {},
   "outputs": [
    {
     "name": "stdout",
     "output_type": "stream",
     "text": [
      "[[0.34574091 0.12517866]\n",
      " [0.25904594 0.11718731]\n",
      " [0.05620029 0.14365177]]\n"
     ]
    }
   ],
   "source": [
    "def bootstrap_estimates(x, y, n=2000):\n",
    "  \"\"\"Generate a set of theta_hat estimates using the bootstrap method.\n",
    "  Args:\n",
    "    x (ndarray): An array of shape (samples,) that contains the input values.\n",
    "    y (ndarray): An array of shape (samples,) that contains the corresponding\n",
    "      measurement values to the inputs.\n",
    "    n (int): The number of estimates to compute\n",
    "  Returns:\n",
    "    ndarray: An array of estimated parameters with size (n,)\n",
    "  \"\"\"\n",
    "  theta_hats = np.zeros((n,2))\n",
    "\n",
    "  # Loop over number of estimates\n",
    "  for i in range(n):\n",
    "\n",
    "    # Resample x and y\n",
    "    x_, y_ = resample_with_replacement(x, y)\n",
    "    df_resampled = pd.DataFrame({'displacement': x_, 'response': y_})\n",
    "\n",
    "    # Compute theta_hat for this sample\n",
    "    theta_hats[i,:] = solve_log_regression(df_resampled)\n",
    "\n",
    "  return theta_hats\n",
    "\n",
    "# For testing purposes we set the random seed so that we always get the same result\n",
    "np.random.seed(123)\n",
    "\n",
    "# Get bootstrap estimates (generate only 3 bootstrap samples for a quick check if everything works)\n",
    "theta_hats = bootstrap_estimates(ds.displacement.values, ds.response.values, n=3)\n",
    "\n",
    "# Now we initialize the random number generator so that we get different random numbers from now on.\n",
    "np.random.seed()\n",
    "\n",
    "print(theta_hats)\n"
   ]
  },
  {
   "cell_type": "markdown",
   "metadata": {},
   "source": [
    "You should see `[[0.34574091 0.12517866] [0.25904594 0.11718731] [0.05620029 0.14365177]]` as the first three estimates."
   ]
  },
  {
   "cell_type": "markdown",
   "metadata": {},
   "source": [
    "Now that we have our bootstrap estimates, we can visualize all the potential models (models computed with different resampling) together to see how distributed they are. Note that now we want to generate 2.000 bootstrap samples and fitting the corresponding logistic regression models can take a few seconds (depending on your machine)."
   ]
  },
  {
   "cell_type": "code",
   "execution_count": 10,
   "metadata": {
    "scrolled": false
   },
   "outputs": [
    {
     "data": {
      "image/png": "[encoded data removed]",
      "text/plain": [
       "<Figure size 640x480 with 1 Axes>"
      ]
     },
     "metadata": {},
     "output_type": "display_data"
    }
   ],
   "source": [
    "# number of boostraps\n",
    "nBoostrap = 2000\n",
    "\n",
    "# regressor and dependent variables from the original dataset\n",
    "x = ds.displacement.values\n",
    "y = ds.response.values\n",
    "\n",
    "# compute boostrap parameters (both slope and intercept)\n",
    "\n",
    "theta_hats = bootstrap_estimates(x, y, n=nBoostrap)\n",
    "\n",
    "# create plot \n",
    "fig, ax = plt.subplots() \n",
    "\n",
    "# plot fitted psychometric curves for all resampled datasets\n",
    "myx = np.linspace(-20,20,100)\n",
    "for i in range(nBoostrap):\n",
    "    # estimated parameters for corresponding resampled dataset\n",
    "    theta_hat = theta_hats[i,:]\n",
    "    \n",
    "    # compute predicted probability of CCW response according to model fitted on corresponding resampled dataset\n",
    "    y_hat = psychometric_model(myx, theta_hat[0], theta_hat[1])\n",
    "    \n",
    "    # plot the psychometric curve\n",
    "    ax.plot(myx, y_hat, c='r', alpha=0.01, label='Resampled Fits' if i==0 else '')\n",
    "\n",
    "# Plot psychometric curve for the original dataset\n",
    "plotcurve(ds,'g')\n",
    "\n",
    "plt.title('Bootstrapped Parameter Estimation');\n",
    "plt.xlabel('displacement');\n",
    "plt.ylabel('p(CCW)');\n",
    "\n",
    "# Change alpha property of legend line \n",
    "handles, labels = ax.get_legend_handles_labels()\n",
    "handles[0].set_alpha(1)\n",
    "ax = plt.legend();\n",
    "\n",
    "# we add a vertical line at d=0 (i.e. when the target is at the same angle as the probe)\n",
    "plt.axvline(x = 0, color = 'k', linestyle = '--')\n",
    "\n",
    "#and horizontal line a pCCW = 0.5 (i.e. equal probability of CW and CCW responses)\n",
    "plt.axhline(y = 0.5, color = 'k', linestyle = '--');"
   ]
  },
  {
   "cell_type": "markdown",
   "metadata": {},
   "source": [
    "This looks pretty good! The bootstrapped estimates spread around the observed datapoints, as we would have hoped.  As always it is a good idea to visually inspect the quality of estimates.\n",
    "Now you can try to **run the bootstrap procedure on all the subjects together** (just taking all the data, ignoring the subject identity). **What happens to the spread of the bootstrap estimates?**"
   ]
  },
  {
   "cell_type": "markdown",
   "metadata": {},
   "source": [
    "*Even though we know that there is some subject-to-subject variability (as we know from Assignment 2), we have now ~9 times more trials and the spread of the bootstrap estimates becomes smaller. Note that also the error bars (in green) became smaller. This is consistent with our general expectation, the more data we have, the better we can estimate the model parameters.*"
   ]
  },
  {
   "cell_type": "markdown",
   "metadata": {},
   "source": [
    "---\n",
    "# 2. Confidence Intervals\n",
    "\n",
    "Let us now quantify how uncertain our estimated parameters ($w_0$ and $w_1$) is. We do so by computing [confidence intervals](https://en.wikipedia.org/wiki/Confidence_interval) (CIs) from our bootstrapped estimates. The most direct approach is to compute percentiles from the empirical distribution of bootstrapped estimates. Note that this is widely applicable as we are not assuming that this empirical distribution is Gaussian."
   ]
  },
  {
   "cell_type": "markdown",
   "metadata": {},
   "source": [
    "## 2.1 Plot bootstrap samples and confidence intervals\n"
   ]
  },
  {
   "cell_type": "code",
   "execution_count": 11,
   "metadata": {},
   "outputs": [
    {
     "data": {
      "image/png": "[encoded data removed]",
      "text/plain": [
       "<Figure size 1200x500 with 2 Axes>"
      ]
     },
     "metadata": {},
     "output_type": "display_data"
    }
   ],
   "source": [
    "# to run the analysis for all subjects, uncomment the following 3 lines\n",
    "#x = df.displacement.values\n",
    "#y = df.response.values\n",
    "#theta_hats = bootstrap_estimates(x, y, n=2000)\n",
    "\n",
    "means = np.mean(theta_hats,axis=0)\n",
    "stds = np.std(theta_hats,axis=0)\n",
    "medians = np.percentile(theta_hats, 50, axis=0)\n",
    "CIs = np.percentile(theta_hats, (2.5, 97.5), axis=0)\n",
    "\n",
    "fig, ax = plt.subplots(ncols=2, figsize=(12, 5))\n",
    "\n",
    "for i in range(2):\n",
    "    ax[i].hist(theta_hats[:,i], bins=20, facecolor='C1', alpha=0.75);\n",
    "    ax[i].axvline(medians[i], color='r', label='Median')\n",
    "    ax[i].axvline(CIs[0,i], color='b', label='95% CI')\n",
    "    ax[i].axvline(CIs[1,i], color='b')\n",
    "    ax[i].legend()\n",
    "    ax[i].set(\n",
    "        title='Bootstrapped Confidence Interval for w'+str(i),\n",
    "        xlabel=r'$\\hat{{w_' + str(i) +'}}$',\n",
    "        ylabel='count');\n"
   ]
  },
  {
   "cell_type": "markdown",
   "metadata": {},
   "source": [
    "**Are the responses of this subjects biased?** (Hint: the bias is reflected in $\\hat{w_0}$). "
   ]
  },
  {
   "cell_type": "markdown",
   "metadata": {},
   "source": [
    "Looking at the distribution of bootstrapped $\\hat{w_0}$ values, we see that the value 0 lies outside the the 95% confidence interval. From this we reject the hypothesis that the $w_0 = 0$ and thus conclude that the responses are (slightly) biased. This can also be seen in the plot \"Bootstrapped Parameter Estimation\" above. The positive value of $w_0$ means a slight bias of the psychometric curve towards CCW (i.e. values equal to 1)."
   ]
  },
  {
   "cell_type": "markdown",
   "metadata": {},
   "source": [
    "It's a good idea to **repeat the analysis with a different subject or with all subjects pooled together** in order to get a better intuition about the datapoints, fitted psychometric curve and confidence intervals for the fitted parameters."
   ]
  },
  {
   "cell_type": "markdown",
   "metadata": {},
   "source": [
    "## 2.2 Comparison with parametric confidence intervals\n"
   ]
  },
  {
   "cell_type": "markdown",
   "metadata": {},
   "source": [
    "Finally, **compare the confidence intervals obtained using bootstrap with the confidence intervals reported by `sm.glm`**. \n",
    "Also compare the standard deviation of the bootstrapped parameter estimates to the std err reported by `sm.glm`. These latter are computed using a parametric method known as the Laplace approximation, that assumes that the true value of the parameter follows a normal distribution centered on the maximum-likelihood estimate. This approximation works well for large datasets (thousands of observations or more) but not so well for small to medium datasets, which is why the bootstrap method should be preferred then.\n",
    "\n",
    "Note that the code below uses [f-Strings](https://realpython.com/python-f-strings/#f-strings-a-new-and-improved-way-to-format-strings-in-python), a convinient way of displaying numbers with a certain format (e.g. number of digits after the comma). "
   ]
  },
  {
   "cell_type": "code",
   "execution_count": 12,
   "metadata": {},
   "outputs": [
    {
     "name": "stdout",
     "output_type": "stream",
     "text": [
      "                   mean      std        [0.025      0.975]\n",
      "----------------------------------------------------------\n",
      "w0               0.2670      0.101       0.064       0.463\n",
      "w1               0.1347      0.017       0.102       0.168\n",
      "==========================================================\n"
     ]
    }
   ],
   "source": [
    "print(f\"                   mean      std        [0.025      0.975]\")\n",
    "print(f\"----------------------------------------------------------\")\n",
    "print(f\"w0               {means[0]:.4f}      {stds[0]:.3f}       {CIs[0,0]:.3f}       {CIs[1,0]:.3f}\")\n",
    "print(f\"w1               {means[1]:.4f}      {stds[1]:.3f}       {CIs[0,1]:.3f}       {CIs[1,1]:.3f}\")\n",
    "print(f\"==========================================================\")"
   ]
  },
  {
   "cell_type": "code",
   "execution_count": 13,
   "metadata": {},
   "outputs": [
    {
     "name": "stdout",
     "output_type": "stream",
     "text": [
      "                 Generalized Linear Model Regression Results                  \n",
      "==============================================================================\n",
      "Dep. Variable:               response   No. Observations:                  448\n",
      "Model:                            GLM   Df Residuals:                      446\n",
      "Model Family:                Binomial   Df Model:                            1\n",
      "Link Function:                  Logit   Scale:                          1.0000\n",
      "Method:                          IRLS   Log-Likelihood:                -272.77\n",
      "Date:                Thu, 15 Feb 2024   Deviance:                       545.54\n",
      "Time:                        12:47:40   Pearson chi2:                     447.\n",
      "No. Iterations:                     4   Pseudo R-squ. (CS):             0.1445\n",
      "Covariance Type:            nonrobust                                         \n",
      "================================================================================\n",
      "                   coef    std err          z      P>|z|      [0.025      0.975]\n",
      "--------------------------------------------------------------------------------\n",
      "Intercept        0.2691      0.104      2.593      0.010       0.066       0.473\n",
      "displacement     0.1343      0.017      7.924      0.000       0.101       0.168\n",
      "================================================================================\n"
     ]
    }
   ],
   "source": [
    "# declare the logistic regression model\n",
    "mod = smf.glm(formula= 'response ~ displacement' , data = ds, family = sm.families.Binomial() )\n",
    "\n",
    "# fit the model\n",
    "res = mod.fit()\n",
    "\n",
    "# print results as a summary table\n",
    "print(res.summary())"
   ]
  },
  {
   "cell_type": "markdown",
   "metadata": {},
   "source": [
    "*In this case (but not in general!), the obtained confidence intervals are very similar.*\n",
    "\n",
    "*The standard deviation of the bootstrapped parameters is a way of computing the standard error the mean in a non-parametric way.*"
   ]
  },
  {
   "cell_type": "markdown",
   "metadata": {},
   "source": [
    "---\n",
    "## Summary of bootstrapping\n",
    "\n",
    "- Bootstrapping is a **resampling procedure** that allows to **build confidence intervals around inferred parameter values**\n",
    "- it is a **widely applicable** and very practical method that relies on computational power and pseudo-random number generators (as opposed to more classical approaches than depend on analytical derivations)\n",
    "- it is **non-parametric**: the confidence intervals provided by statistical libraries are not always accurate because they assume an underlying gaussian distribution for parameters, which is not always the case."
   ]
  },
  {
   "cell_type": "markdown",
   "metadata": {},
   "source": [
    "# 3. Model comparison using penalized likelihood\n",
    "In traditional statistics, we test the presence of an effect in the data by assessing if the absence of the effect is credible, i.e. whether the null hypothesis (the absence of the effect) can be rejected. This is what we have done above, we tested whether a null value for the intercept is plausible. But the validity of the alternative hypothesis (that the intercept is non-null) is never tested directly.\n",
    "\n",
    "Now, using the framework of statistical modelling offers a richer set of tools because we can **directly compare the null hypothesis and the alternative hypothesis** and assess which one better accounts for the experimental data. The approach is even more generic: the tools of statistical modelling / machine learning allows to directly compare any set of statistical models based on how each of these model explains a given dataset.\n",
    "\n",
    "In previous assignments, we have seen two metrics that assess how well a model captures the data:\n",
    "- the mean-squared error (MSE), in the case of linear regression (the smaller the better)\n",
    "- the (log-)likelihood, which can be used in all settings (the larger the better). Remember that the maximum-likelihood approach is actually equivalent to the minimum-squared error for linear regression, but works in other cases.\n",
    "\n",
    "We have used these two metrics to decide, given a certain parametric model of the data (i.e. linear regression), which set of parameters better describe the data. But the same philosophy can be used to decide which of two different models better describes the data: **the larger the likelihood, the better the model**.\n",
    "\n",
    "Yet there is a caveat. The likelihood is usually estimated for each model at the maximum-likelihood parameters. But if a certain model has more parameters, then space of parameters is larger: the model is more flexible (it has more *degrees of freedom*), so it will receive an unfair advantage when comparing the likelihoods with other models. Even if those extra parameters do not contribute anything to capturing the true processes that underlie the generation of the data, giving this extra-flexibility can allow it to improve the likelihood simply by adjusting to noise. This is the problem of **overfitting**. In the videos, we have seen that we need to find a right balance between fitting the data and model parsimony, what is know as the **bias-variance trade-off**. \n",
    "\n",
    "To make the comparison more fair between models of different complexities, one approach is simply to apply a certain penalty term on top of the likelihood that penalizes the models with more parameters. The two most popular metrics for doing so just differ in the strength of the penalty term: \n",
    "- the **Akaike Information Criterion (AIC)** is computed as $AIC = 2k - 2 \\hat{LLH}$, where $k$ is the number of parameters of the model (i.e. a simple linear regression model will have two, the intercept and the slope) and $\\hat{LLH}$ is the log-likelihood of the model estimated at the maximum-likelihood parameters (the value that is provided in the summary of the model after fitting).\n",
    "- the **Bayesian Information Criterion (BIC)** is computed as $BIC = k \\log n - 2 \\hat{LLH}$ where $n$ is the number of observations (i.e. trials).\n",
    "The smaller the AIC (or BIC), the better is the model, because of the negative sign before the log-likelihood. The first part of the equation is positive and correspond to the penalty term. That term is larger in the case of the BIC, i.e. the BIC penalizes more severely models with many parameters than the AIC. In other words, it will be more conservative in rejecting the null hypothesis. \n",
    "\n",
    "It's important to note that these are **relative measures**: their raw values tell us very little, it's only by comparing values between different models that we can interpret which model better captures the data. So we cannot conclude from the BIC/AIC that one model is a good model of the data; only that it is a better model of the data than others. \n",
    "\n",
    "Akaike's rule of thumb: **two models are essentially indistinguishable if the difference of their AICs is less than 2** (same for BIC). The larger the difference, the more evidence towards the better model against the other.\n",
    "\n",
    "But enough talking, let's see how to apply this in practice. We will look back to the analysis that suggests that, in memory trials, the relative position distractor has an impact on the choice of the participants.\n",
    "\n",
    "First, fit a **logistic regression model with probe displacement and distance of the distractor as regressors, restricting the analysis to memory trials** (i.e. delay of 1s or 3s). \n",
    "Unlike what we did in the previous assignment where we analyzed data from all subjects together without taking into account the population heterogeneity, the good practice is to apply statisical modelling on a single-subject data (or used mixed-effects models as we will see in Assignment 6). Here we will **work on on the data for one subject only: subject 5**."
   ]
  },
  {
   "cell_type": "code",
   "execution_count": 14,
   "metadata": {
    "scrolled": false
   },
   "outputs": [
    {
     "name": "stdout",
     "output_type": "stream",
     "text": [
      "                 Generalized Linear Model Regression Results                  \n",
      "==============================================================================\n",
      "Dep. Variable:               response   No. Observations:                  291\n",
      "Model:                            GLM   Df Residuals:                      288\n",
      "Model Family:                Binomial   Df Model:                            2\n",
      "Link Function:                  Logit   Scale:                          1.0000\n",
      "Method:                          IRLS   Log-Likelihood:                -163.07\n",
      "Date:                Thu, 15 Feb 2024   Deviance:                       326.15\n",
      "Time:                        12:47:40   Pearson chi2:                     293.\n",
      "No. Iterations:                     4   Pseudo R-squ. (CS):             0.2312\n",
      "Covariance Type:            nonrobust                                         \n",
      "===================================================================================\n",
      "                      coef    std err          z      P>|z|      [0.025      0.975]\n",
      "-----------------------------------------------------------------------------------\n",
      "Intercept           0.1305      0.135      0.964      0.335      -0.135       0.396\n",
      "displacement        0.1668      0.022      7.442      0.000       0.123       0.211\n",
      "dist_distractor    -0.0056      0.002     -2.904      0.004      -0.009      -0.002\n",
      "===================================================================================\n"
     ]
    }
   ],
   "source": [
    "#Compute the distance between the distractor and the target and add as a new column to the dataframe:\n",
    "df['dist_distractor'] = circ_dist( df['target'] , df['near'] )\n",
    "\n",
    "# we restrict the dataframe to memory trials and trials from subject 5\n",
    "memory_trials_subject5 =  (df['delay']>0.5) & (df['subject']==5)\n",
    "\n",
    "# dataframe for memory trials and subject 5\n",
    "df_memory = df[memory_trials_subject5]\n",
    "\n",
    "# when we take a subset of a dataframe, the indices reflect the position of the selected rows in the old dataset. \n",
    "# We use reset_index to reset the indices, i.e. going back as 1, 2, ... (this avoids frequent error afterwards)\n",
    "df_memory = df_memory.reset_index(drop=True)\n",
    "\n",
    "# declare the logistic regression model\n",
    "mod = smf.glm(formula= 'response ~ displacement + dist_distractor' , data=df_memory  , family= sm.families.Binomial() )\n",
    "\n",
    "# fit the model\n",
    "res = mod.fit()\n",
    "\n",
    "# print results as a summary table\n",
    "print(res.summary())"
   ]
  },
  {
   "cell_type": "markdown",
   "metadata": {},
   "source": [
    "We will want to compare this model to the null model, which is exactly the same but where the influence of the distractor is removed. **Fit the null model**."
   ]
  },
  {
   "cell_type": "code",
   "execution_count": 15,
   "metadata": {},
   "outputs": [
    {
     "name": "stdout",
     "output_type": "stream",
     "text": [
      "                 Generalized Linear Model Regression Results                  \n",
      "==============================================================================\n",
      "Dep. Variable:               response   No. Observations:                  291\n",
      "Model:                            GLM   Df Residuals:                      289\n",
      "Model Family:                Binomial   Df Model:                            1\n",
      "Link Function:                  Logit   Scale:                          1.0000\n",
      "Method:                          IRLS   Log-Likelihood:                -167.57\n",
      "Date:                Thu, 15 Feb 2024   Deviance:                       335.13\n",
      "Time:                        12:47:40   Pearson chi2:                     292.\n",
      "No. Iterations:                     4   Pseudo R-squ. (CS):             0.2070\n",
      "Covariance Type:            nonrobust                                         \n",
      "================================================================================\n",
      "                   coef    std err          z      P>|z|      [0.025      0.975]\n",
      "--------------------------------------------------------------------------------\n",
      "Intercept        0.1366      0.133      1.025      0.305      -0.125       0.398\n",
      "displacement     0.1676      0.022      7.587      0.000       0.124       0.211\n",
      "================================================================================\n"
     ]
    }
   ],
   "source": [
    "# declare the logistic regression model\n",
    "mod_null = smf.glm(formula= 'response ~ displacement' , data= df_memory , family= sm.families.Binomial() )\n",
    "\n",
    "# fit the model\n",
    "res_null = mod_null.fit()\n",
    "\n",
    "# print results as a summary table\n",
    "print(res_null.summary())"
   ]
  },
  {
   "cell_type": "markdown",
   "metadata": {},
   "source": [
    "Let us first **compare the log-likelihood of both models**. This value (provided in the summary) is given by `res.llf`."
   ]
  },
  {
   "cell_type": "code",
   "execution_count": 16,
   "metadata": {},
   "outputs": [
    {
     "name": "stdout",
     "output_type": "stream",
     "text": [
      "LLH for the model with distractor: -163.0726671664243\n",
      "LLH for the null model: -167.56677836222298\n"
     ]
    }
   ],
   "source": [
    "print(\"LLH for the model with distractor: \", res.llf)\n",
    "print(\"LLH for the null model: \",res_null.llf)"
   ]
  },
  {
   "cell_type": "markdown",
   "metadata": {},
   "source": [
    "**What do you observe? Is it expected?**"
   ]
  },
  {
   "cell_type": "markdown",
   "metadata": {},
   "source": [
    "*The log-likelihood is higher (less negative) for the model with distractor effect. This is expected because it has more degrees of freedom. We need to compensate for model complexity to test which one better explains the data.*"
   ]
  },
  {
   "cell_type": "markdown",
   "metadata": {},
   "source": [
    "(Optional) The value of the AIC is directly provided by `statsmodel` as `res.aic`.\n",
    "**Check that the value corresponds to the formula provided above** (the list of parameters of the model is given by `res.params`)."
   ]
  },
  {
   "cell_type": "code",
   "execution_count": 17,
   "metadata": {},
   "outputs": [
    {
     "name": "stdout",
     "output_type": "stream",
     "text": [
      "Statsmodel-defined AIC:332.1453343328486\n",
      "AIC: 332.1453343328486\n"
     ]
    }
   ],
   "source": [
    "# AIC\n",
    "print(\"Statsmodel-defined AIC:\" + str(res.aic))\n",
    "\n",
    "# Use the formula\n",
    "nParam = len(res.params)\n",
    "AIC = 2*nParam - 2*res.llf\n",
    "print(\"AIC: \", AIC)"
   ]
  },
  {
   "cell_type": "markdown",
   "metadata": {},
   "source": [
    "Now **compare the AIC from the two models**."
   ]
  },
  {
   "cell_type": "code",
   "execution_count": 18,
   "metadata": {
    "scrolled": true
   },
   "outputs": [
    {
     "name": "stdout",
     "output_type": "stream",
     "text": [
      "AIC for the model with distractor:  332.1453343328486\n",
      "AIC for the null model:  339.13355672444595\n"
     ]
    }
   ],
   "source": [
    "print(\"AIC for the model with distractor: \",res.aic)\n",
    "print(\"AIC for the null model: \", res_null.aic)"
   ]
  },
  {
   "cell_type": "markdown",
   "metadata": {},
   "source": [
    "**Interpret the results.**"
   ]
  },
  {
   "cell_type": "markdown",
   "metadata": {},
   "source": [
    "*The model with distractor has a lower AIC than the null model, i.e. it better captures the data than the AIC. The difference is quite large (7), so the evidence is quite strong. Based on this metric, we conclude that the distractor does have an impact on choices (due to the repulsive effect on working memory).*"
   ]
  },
  {
   "cell_type": "markdown",
   "metadata": {},
   "source": [
    "**Compare the BIC from the two models** (use  `res.bic_llf`, not `res.bic`)."
   ]
  },
  {
   "cell_type": "code",
   "execution_count": 19,
   "metadata": {
    "scrolled": false
   },
   "outputs": [
    {
     "name": "stdout",
     "output_type": "stream",
     "text": [
      "BIC for the model with distractor:  343.1653041343631\n",
      "BIC for the null model:  346.48020325878895\n"
     ]
    }
   ],
   "source": [
    "print(\"BIC for the model with distractor: \", res.bic_llf)\n",
    "print(\"BIC for the null model: \", res_null.bic_llf)"
   ]
  },
  {
   "cell_type": "markdown",
   "metadata": {},
   "source": [
    "**Interpret the results.**"
   ]
  },
  {
   "cell_type": "markdown",
   "metadata": {},
   "source": [
    "*As for the AIC, the BIC favors the model with distractor. The difference is smaller however (3.3). This is expected because the BIC penalizes more strongly for more complex models. Still, the difference is larger than 2 so there is moderate evidence for the presence of a distractor effect, according to the BIC.*"
   ]
  },
  {
   "cell_type": "markdown",
   "metadata": {},
   "source": [
    "**(Optional)** Now run the analyses again with subject 3. What do you conclude for this subject?"
   ]
  },
  {
   "cell_type": "markdown",
   "metadata": {},
   "source": [
    "*Now the BIC gives us a different result that the AIC: the AIC favors the model with distractor (with a small difference) while the BIC favors the null model! As said above, the BIC is more conservative, so at times we do see a disagreement between the two metrics which makes it hard to draw firm conclusions. In any case, the differences are relatively small so the data cannot arbitrate between the null model and the model with distractor. \n",
    "Note that this is **different from traditional hypothesis testing: here we could neither reject the null hypothesis nor the alternative hypothesis.** In cases where the AIC/BIC strongly favors the null hypothesis, we can reject the alternative hypothesis, which is something that we never do in traditionaly hypothesis testing (you only consider the null hypothesis).*"
   ]
  },
  {
   "cell_type": "markdown",
   "metadata": {},
   "source": [
    "# 4. Testing model performance on held out data\n",
    "The AIC and BIC are convenient because they are easy to compute, but they are just \"approximately good\". For large sample size, they work well, but for smaller sample size they may not accurately describe which model is better. Moreover, as we have seen, they sometimes provide contradictory results, which is always frustrating.\n",
    "\n",
    "Another approach for comparing models on experimental data while adjusting for model complexity is to test the model performance on datapoints that have not been used to train/fit the model (i.e. to estimate the maximum-likelihood parameters). If a model with many parameters is overfitting, i.e. its parameters are adjusted to predict very well the datapoints it was trained on (it is fitting 'noise'), then its performance may decrease severely when testing the model with the same parameters but on a new dataset. \n",
    "How this is done in practice is that we **split our datasets into two smaller datasets**: one **training set** which is used to fit the model and extract the maximum-likelihood parameters, and one **test set** (or held-out data) which is used to evaluate the performance of the model previously fitted. This method naturally corrects for model complexity when comparing different models. Let us do this."
   ]
  },
  {
   "cell_type": "markdown",
   "metadata": {},
   "source": [
    "The first step is to **split our dataset in two**. In general the training set is the larger, usually taking 80% of the data, while the test set takes the remaining 20%.\n",
    "This can be done using `train_test_split` from `statsmodel`, which randomly assign each observation to either the train or test set, while controlling for the relative size of each set."
   ]
  },
  {
   "cell_type": "code",
   "execution_count": 20,
   "metadata": {},
   "outputs": [],
   "source": [
    "# import train_test_split\n",
    "from sklearn.model_selection import train_test_split\n",
    "\n",
    "# make sure to use again data for subject 5!\n",
    "\n",
    "# we restrict the dataframe to memory trials and trials from subject 5\n",
    "memory_trials_subject5 =  (df['delay']>0.5) & (df['subject']==5)\n",
    "\n",
    "# dataframe for memory trials and subject 5\n",
    "df_memory = df[memory_trials_subject5]\n",
    "\n",
    "# when we take a subset of a dataframe, the indices reflect the position of the selected rows in the old dataset. \n",
    "# We use reset_index to reset the indices, i.e. going back as 1, 2, ... (this avoids frequent error afterwards)\n",
    "df_memory = df_memory.reset_index(drop=True)\n",
    "\n",
    "# create two dataframes. Parameter test_size (between 0 and 1) controls the relative size of the test set.\n",
    "df_train, df_test = train_test_split(df_memory, test_size=0.2)\n",
    "\n",
    "# when we take a subset of a dataframe, the indices reflect the position of the selected rows in the old dataset. \n",
    "# We use reset_index to reset the indices, i.e. going back as 1, 2, ... (this avoids frequent error afterwards)\n",
    "df_test = df_test.reset_index(drop=True)"
   ]
  },
  {
   "cell_type": "markdown",
   "metadata": {},
   "source": [
    "**Check the size (number of rows) of the train and test sets. Check how this is affected by changing the `test_size` parameter.**"
   ]
  },
  {
   "cell_type": "code",
   "execution_count": 21,
   "metadata": {
    "scrolled": true
   },
   "outputs": [
    {
     "name": "stdout",
     "output_type": "stream",
     "text": [
      "Number of training datapoints:  232\n",
      "Number of test datapoints:  59\n"
     ]
    }
   ],
   "source": [
    "print(\"Number of training datapoints: \", df_train.shape[0])\n",
    "print(\"Number of test datapoints: \",df_test.shape[0])"
   ]
  },
  {
   "cell_type": "markdown",
   "metadata": {},
   "source": [
    "If you were to sample the data \"manually\" to split between the train and test sets (instead of using `train_test_split`), would you set the `replace` option of `np.random.choice` to `True` or `False`?"
   ]
  },
  {
   "cell_type": "markdown",
   "metadata": {},
   "source": [
    "*Each observation must appear once and only once either in the train or test set, so we should set the option to `False` (this is different from boostrapping).*"
   ]
  },
  {
   "cell_type": "markdown",
   "metadata": {},
   "source": [
    "Now, let's follow the procedure:\n",
    "- **fit both models (with or without distractor regressor) to the train set**\n",
    "- **use the fitted models to generate predictions for the probability of CCW response on the test set**. (Remember we in Assignment 4 we saw how to use `res.predict`)"
   ]
  },
  {
   "cell_type": "code",
   "execution_count": 22,
   "metadata": {},
   "outputs": [],
   "source": [
    "# fit model with impact of distractor on training set\n",
    "mod_train = smf.glm(formula= 'response ~ displacement + dist_distractor' , data= df_train , family= sm.families.Binomial() )\n",
    "res_train = mod_train.fit()\n",
    "\n",
    "# fit null model on training set\n",
    "mod_null_train = smf.glm(formula= 'response ~ displacement' , data= df_train , family= sm.families.Binomial() )\n",
    "res_null_train = mod_null_train.fit()\n",
    "\n",
    "# use the fitted statistical model to compute p(CCW) for each value in this dataframe\n",
    "ytest = res_train.predict(df_test)\n",
    "ytest_null = res_null_train.predict(df_test)"
   ]
  },
  {
   "cell_type": "markdown",
   "metadata": {},
   "source": [
    "We now have a prediction for each trial in the test set, and what we want is a single metric, the LogLikelihood on the test data, to compare the models. There are no built-in method in `statsmodel` for computing the log-likelihood on test data, so we use the following function:"
   ]
  },
  {
   "cell_type": "code",
   "execution_count": 23,
   "metadata": {},
   "outputs": [],
   "source": [
    "# compute likelihood of test data\n",
    "def loglikelihood_binary(pModel, resp):\n",
    "    # number of observations / trials\n",
    "    n = len(pModel)\n",
    "    \n",
    "    # initialize log-likelihood\n",
    "    LLH = 0\n",
    "    \n",
    "    # loop through trials\n",
    "    for i in range(n):\n",
    "        \n",
    "        if (resp.iloc[i]==1):\n",
    "            lh = pModel.iloc[i]\n",
    "        else:\n",
    "            lh = 1-pModel.iloc[i]\n",
    "            \n",
    "        # add logarithm of likelihood for the trial to LLH\n",
    "        LLH += np.log(lh)\n",
    "        \n",
    "    return LLH"
   ]
  },
  {
   "cell_type": "markdown",
   "metadata": {},
   "source": [
    "Use the function above to **compute the log-likelihood of both models on the test data**."
   ]
  },
  {
   "cell_type": "code",
   "execution_count": 24,
   "metadata": {},
   "outputs": [
    {
     "name": "stdout",
     "output_type": "stream",
     "text": [
      "Log-likelihood of full model on test data -31.475632624790897\n",
      "Log-likelihood of null model on test data -31.330383243387438\n"
     ]
    }
   ],
   "source": [
    "LLH_test = loglikelihood_binary(ytest, df_test.response)\n",
    "LLH_test_null = loglikelihood_binary(ytest_null, df_test.response)\n",
    "\n",
    "print(\"Log-likelihood of full model on test data\",LLH_test)\n",
    "print(\"Log-likelihood of null model on test data\",LLH_test_null)"
   ]
  },
  {
   "cell_type": "markdown",
   "metadata": {},
   "source": [
    "**Interpret the results.**"
   ]
  },
  {
   "cell_type": "markdown",
   "metadata": {},
   "source": [
    "*Here, the LLH on test data is a bit larger for the full model (with distractor effect), suggesting that this is a better model fo the data than the null model. Based on this, we may conclude that the distractor impact choices on memory trials.*"
   ]
  },
  {
   "cell_type": "markdown",
   "metadata": {},
   "source": [
    "# 5 From validation to cross-validation\n",
    "\n",
    "\n",
    "That is good, but if you run the analysis again, you will notice that the results vary every time. This is because everytime you run the analysis, you generate a new random split of the dataset between the train and test sets. Obviously, our measure of which model is best should not depend on a random generator! One way of dealing with this is to perform various splitting, compute the test score for each split, and then average over splittings. The more splittings we perform, the more robust our measure will be. This is usually done using **cross-validation**, where the dataset is chunked in pieces (or folds), and each piece alternatively takes the role of the test set. The most standard form of cross-validation is K-fold cross-validation, where K describes the number of folds in which the data is split. This is illustrated below using $K=5$. The log-likelihood of cross-validated data is described as \"Cross-Validated Log-Likelihood\" (**CVLL**).\n",
    "\n",
    "(Image taken from [https://docs.ultralytics.com/es/guides/kfold-cross-validation/])\n",
    "\n",
    "![Task](https://user-images.githubusercontent.com/26833433/258589390-8d815058-ece8-48b9-a94e-0e1ab53ea0f6.png)"
   ]
  },
  {
   "cell_type": "markdown",
   "metadata": {},
   "source": [
    "In general, the larger is K, the more robust your measure is. The extreme case is **leave-one-out cross-validation** (LOOCV) where basically you split the datasets in sets of just one observation (trials); then on each fold you fit all your dataset on all the dataset but one observation and test it on this single heldout observation. So LOOCV is like K-fold CV where K equals the number of observations. However, by increasing K, you also increase the computational complexity as you need to fit the model over and over, so things can get slow.\n",
    "\n",
    "Cross-validation is a robust method for choosing the best statistical model for a certain dataset. It does not suffer the same limitations as AIC/BIC, and can be used for other metrics than the log-likelihood such as the mean squared error or the classification accuracy. It can be used also for complex methods when the likelihood cannot be evaluated.\n",
    "This is why **cross-validation is the standard method in machine learning** to compare the performance of any type of models (deep networks, auto-encoders, SVMs, etc.)."
   ]
  },
  {
   "cell_type": "markdown",
   "metadata": {},
   "source": [
    "In this code, we split the data into 10 subsets using `Kfold` (from `sklearn.model_selection`) - $K=10$ is the minimum value to ensure robust performance. `KFold` handles cross-validation subset splitting training and test assignments.  In particular, the `Kfold.split` method returns an iterator which we can loop through. On each loop, this iterator assigns a different subset as validation and returns new training and validation indices with which to split the data. \n",
    "\n",
    "We will loop through the 10 train/validation splits and on each split compute the log-likelihood of both models on the test set. Then we will average the CVLL over splits."
   ]
  },
  {
   "cell_type": "code",
   "execution_count": 25,
   "metadata": {},
   "outputs": [],
   "source": [
    "#import KFold\n",
    "from sklearn.model_selection import KFold\n",
    "\n",
    "# number of folds\n",
    "K = 10\n",
    "\n",
    "#create Kfold object\n",
    "kf = KFold(n_splits = K, shuffle=True)"
   ]
  },
  {
   "cell_type": "markdown",
   "metadata": {},
   "source": [
    "**Apply K-fold validation on the dataset to compute the CVLL on both the distractor and null models.**"
   ]
  },
  {
   "cell_type": "code",
   "execution_count": 26,
   "metadata": {},
   "outputs": [
    {
     "name": "stdout",
     "output_type": "stream",
     "text": [
      "[[-15.73929612 -15.90127005]\n",
      " [-15.27853345 -14.6462915 ]\n",
      " [-16.15529877 -17.05129132]\n",
      " [-18.0364914  -17.93786118]\n",
      " [-16.89573914 -17.66496653]\n",
      " [-17.51672888 -18.49644611]\n",
      " [-14.20369538 -15.29098576]\n",
      " [-16.95825754 -18.05628155]\n",
      " [-17.82276536 -17.8488565 ]\n",
      " [-16.41263284 -16.1529564 ]]\n"
     ]
    }
   ],
   "source": [
    "# Initialize CVLL as numpy array with K rows and 2 columns, one for each model\n",
    "CVLL_all = np.zeros((K,2))\n",
    "\n",
    "# loop through all folds (the complex syntax provides the loop counter i, as well as the indices of trials in train and test sets for the corresponding fold)\n",
    "for i, (train_index, test_index) in enumerate(kf.split(df_memory)):\n",
    "    \n",
    "    # dataframe with training data\n",
    "    df_train = df_memory.loc[train_index]\n",
    "    \n",
    "    # dataframe with test data\n",
    "    df_test = df_memory.loc[test_index]\n",
    "       \n",
    "    # fit model with impact of distractor on training set\n",
    "    mod_train = smf.glm(formula= 'response ~ displacement + dist_distractor' , data=  df_train, family= sm.families.Binomial() )\n",
    "    res_train = mod_train.fit()\n",
    "\n",
    "    # fit null model on training set\n",
    "    mod_null_train = smf.glm(formula= 'response ~ displacement' , data= df_train , family= sm.families.Binomial() )\n",
    "    res_null_train = mod_null_train.fit()\n",
    "\n",
    "    # use the fitted statistical model to compute p(CCW) for each value in this dataframe\n",
    "    ytest = res_train.predict(df_test)\n",
    "    ytest_null = res_null_train.predict(df_test)\n",
    "    \n",
    "    # compute the CVLL for each model\n",
    "    LLH_test = loglikelihood_binary(ytest, df_test.response)\n",
    "    LLH_test_null = loglikelihood_binary(ytest_null, df_test.response)\n",
    "    \n",
    "    # add as row in array\n",
    "    CVLL_all[i] = [LLH_test,LLH_test_null]\n",
    "    \n",
    "# print the raw values\n",
    "print(CVLL_all)"
   ]
  },
  {
   "cell_type": "markdown",
   "metadata": {},
   "source": [
    "**What do the columns and rows represent in this array?**"
   ]
  },
  {
   "cell_type": "markdown",
   "metadata": {},
   "source": [
    "*Different rows represent different fold (i.e. the first row is when the first set is used as test set while other 9 sets are used as training set). THe first column represents the CVLL of the full model, while the second column represents the CVLL of the control model.*"
   ]
  },
  {
   "cell_type": "markdown",
   "metadata": {},
   "source": [
    "The final score for each model is the sum of the cross-validated log-likelihoods over all folds.\n",
    "**Compute the score for the full model and compare it to the log-likelihood of the same model** (without cross validation), computed in the section about penalized log-likelihoods. (Make sure that both metrics are for subject 5!)."
   ]
  },
  {
   "cell_type": "code",
   "execution_count": 27,
   "metadata": {
    "scrolled": true
   },
   "outputs": [
    {
     "name": "stdout",
     "output_type": "stream",
     "text": [
      "Score for the model with distractor:  -165.01943886826902\n",
      "LLH for the model with distractor:  -163.0726671664243\n"
     ]
    }
   ],
   "source": [
    "score = sum(CVLL_all[:,0]) # summing CVLL over folds in the first column\n",
    "print(\"Score for the model with distractor: \",score)\n",
    "print(\"LLH for the model with distractor: \",res.llf)"
   ]
  },
  {
   "cell_type": "markdown",
   "metadata": {},
   "source": [
    "**How do you interpret the difference?**"
   ]
  },
  {
   "cell_type": "markdown",
   "metadata": {},
   "source": [
    "*The score is lower that the log-likelihood as each datapoint is tested as part of held out data, i.e. the datapoint was not used to estimate the parameters of the model it is tested against. This way we remove the part of the log-likelihood due to overfitting, and we have a better estimate of how well the model accounts for the data.*"
   ]
  },
  {
   "cell_type": "markdown",
   "metadata": {},
   "source": [
    "**Do the same for the null model.**"
   ]
  },
  {
   "cell_type": "code",
   "execution_count": 28,
   "metadata": {
    "scrolled": true
   },
   "outputs": [
    {
     "name": "stdout",
     "output_type": "stream",
     "text": [
      "Score for the null model:  -169.04720691350082\n",
      "LLH for the null model:  -167.56677836222298\n"
     ]
    }
   ],
   "source": [
    "score_null = sum(CVLL_all[:,1]) # summing CVLL over folds in the second column\n",
    "print(\"Score for the null model: \",score_null)\n",
    "print(\"LLH for the null model: \",res_null.llf)"
   ]
  },
  {
   "cell_type": "markdown",
   "metadata": {},
   "source": [
    "**Again, how do you interpret the difference?**"
   ]
  },
  {
   "cell_type": "markdown",
   "metadata": {},
   "source": [
    "*Again, the score is lower that the likelihood, for the exact same reason. However, the difference is slightly smaller for the null model, given that it has less parameters that the model with distractor and thus is less prone to overfitting.*"
   ]
  },
  {
   "cell_type": "markdown",
   "metadata": {},
   "source": [
    "Finally, **compare the score between the two models. What do you conclude?**"
   ]
  },
  {
   "cell_type": "code",
   "execution_count": 29,
   "metadata": {},
   "outputs": [
    {
     "name": "stdout",
     "output_type": "stream",
     "text": [
      "Score for the model with distractor:  -165.01943886826902\n",
      "Score for the null model:  -169.04720691350082\n",
      "Difference 4.027768045231795\n"
     ]
    }
   ],
   "source": [
    "print(\"Score for the model with distractor: \",score)\n",
    "print(\"Score for the null model: \",score_null)\n",
    "print(\"Difference\", score-score_null)"
   ]
  },
  {
   "cell_type": "markdown",
   "metadata": {},
   "source": [
    "**What do you conclude?**"
   ]
  },
  {
   "cell_type": "markdown",
   "metadata": {},
   "source": [
    "*There is a small but reliable difference, where the model with distractor outbeats the null model over all. This suggests that the distractor does have an influence on this subject's reports.*"
   ]
  }
 ],
 "metadata": {
  "colab": {
   "name": "assignment5.ipynb",
   "provenance": []
  },
  "hide_input": false,
  "kernelspec": {
   "display_name": "Python 3 (ipykernel)",
   "language": "python",
   "name": "python3"
  },
  "language_info": {
   "codemirror_mode": {
    "name": "ipython",
    "version": 3
   },
   "file_extension": ".py",
   "mimetype": "text/x-python",
   "name": "python",
   "nbconvert_exporter": "python",
   "pygments_lexer": "ipython3",
   "version": "3.9.13"
  },
  "toc": {
   "base_numbering": 1,
   "nav_menu": {},
   "number_sections": true,
   "sideBar": true,
   "skip_h1_title": false,
   "title_cell": "Table of Contents",
   "title_sidebar": "Contents",
   "toc_cell": false,
   "toc_position": {},
   "toc_section_display": true,
   "toc_window_display": false
  },
  "varInspector": {
   "cols": {
    "lenName": 16,
    "lenType": 16,
    "lenVar": 40
   },
   "kernels_config": {
    "python": {
     "delete_cmd_postfix": "",
     "delete_cmd_prefix": "del ",
     "library": "var_list.py",
     "varRefreshCmd": "print(var_dic_list())"
    },
    "r": {
     "delete_cmd_postfix": ") ",
     "delete_cmd_prefix": "rm(",
     "library": "var_list.r",
     "varRefreshCmd": "cat(var_dic_list()) "
    }
   },
   "types_to_exclude": [
    "module",
    "function",
    "builtin_function_or_method",
    "instance",
    "_Feature"
   ],
   "window_display": false
  }
 },
 "nbformat": 4,
 "nbformat_minor": 1
}
