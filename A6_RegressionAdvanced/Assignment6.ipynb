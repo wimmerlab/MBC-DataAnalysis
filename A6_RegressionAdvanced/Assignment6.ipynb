{
 "cells": [
  {
   "cell_type": "markdown",
   "metadata": {
    "colab_type": "text",
    "id": "pxFPNerzM0Bh"
   },
   "source": [
    "### Assignment 6: Advanced topics in regression"
   ]
  },
  {
   "cell_type": "markdown",
   "metadata": {},
   "source": [
    "**In this assignment, we will:**\n",
    "- study how the estimated weights of a regression model change when introducing a correlated regressor, and understand what that means for **introducing nuisance regressors**\n",
    "- study why a **regression model cannot include colinear regressors**\n",
    "- see how we **detect colinear or strongly correlated regressors** that could affect estimation of weights, using the **Variance Inflation Factor**\n",
    "- study how we can determine in advance if our sample size is adequate to find a statistical significant effect, using **simulation-based power analysis**\n",
    "- see how to take the heterogenity of behavior across participants into account, using **linear mixed models**"
   ]
  },
  {
   "cell_type": "markdown",
   "metadata": {},
   "source": [
    "<div class=\"alert alert-block alert-warning\">\n",
    "<b>Preparing for this assignment:</b> \n",
    "All concepts will be discussed in class, you can access the slides for linear mixed models <a href=\"https://github.com/wimmerlab/MBC-DataAnalysis/blob/21b0b5c843c036258884dfefd537b23b7a5bda34/A6_RegressionAdvanced/BAMB!%20Tutorial%209%20-%20Linear%20Mixed%20Models.pdf\">here</a>.\n",
    "</div>"
   ]
  },
  {
   "cell_type": "markdown",
   "metadata": {},
   "source": [
    "## Load the numerical judgment dataset"
   ]
  },
  {
   "cell_type": "markdown",
   "metadata": {},
   "source": [
    "We will first use the **same dataset as in Assignment 1** (Simple statistics): the orientation judgment dataset of (Talluri et al.,*Current Biology*). Reminder: the paradigm is presented in Figure 1 of the [article](https://www.cell.com/action/showPdf?pii=S0960-9822%2818%2930982-5). The structure of each trial is the following:\n",
    "- first, a stimulus (here a sequence of oriented gratings)\n",
    "- a discrimination task on this first stimulus (is the sequence overall tilted more clockwise or counter-clockwise?)\n",
    "- then a second stimulus (another sequence of oriented gratings)\n",
    "- finally, a numerical judgment task (report the mean over the *two* sequences).\n",
    "\n",
    "Load the data as a Pandas dataframe (as in Assignment 1). `x1` now represents the average orientation in the first sequence, and correspondingly for `x2`. In this dataset we will ignore the impact of the discrimination task on the final judgment."
   ]
  },
  {
   "cell_type": "code",
   "execution_count": 1,
   "metadata": {
    "scrolled": true
   },
   "outputs": [
    {
     "data": {
      "text/html": [
       "<div>\n",
       "<style scoped>\n",
       "    .dataframe tbody tr th:only-of-type {\n",
       "        vertical-align: middle;\n",
       "    }\n",
       "\n",
       "    .dataframe tbody tr th {\n",
       "        vertical-align: top;\n",
       "    }\n",
       "\n",
       "    .dataframe thead th {\n",
       "        text-align: right;\n",
       "    }\n",
       "</style>\n",
       "<table border=\"1\" class=\"dataframe\">\n",
       "  <thead>\n",
       "    <tr style=\"text-align: right;\">\n",
       "      <th></th>\n",
       "      <th>x1</th>\n",
       "      <th>x2</th>\n",
       "      <th>xavg</th>\n",
       "      <th>estim</th>\n",
       "      <th>subj</th>\n",
       "    </tr>\n",
       "  </thead>\n",
       "  <tbody>\n",
       "    <tr>\n",
       "      <th>0</th>\n",
       "      <td>-10</td>\n",
       "      <td>0</td>\n",
       "      <td>-5</td>\n",
       "      <td>-5.21220</td>\n",
       "      <td>1</td>\n",
       "    </tr>\n",
       "    <tr>\n",
       "      <th>1</th>\n",
       "      <td>-10</td>\n",
       "      <td>-10</td>\n",
       "      <td>-10</td>\n",
       "      <td>-8.21768</td>\n",
       "      <td>1</td>\n",
       "    </tr>\n",
       "    <tr>\n",
       "      <th>2</th>\n",
       "      <td>20</td>\n",
       "      <td>10</td>\n",
       "      <td>15</td>\n",
       "      <td>-17.93416</td>\n",
       "      <td>1</td>\n",
       "    </tr>\n",
       "    <tr>\n",
       "      <th>3</th>\n",
       "      <td>-20</td>\n",
       "      <td>10</td>\n",
       "      <td>-5</td>\n",
       "      <td>-13.42634</td>\n",
       "      <td>1</td>\n",
       "    </tr>\n",
       "    <tr>\n",
       "      <th>4</th>\n",
       "      <td>20</td>\n",
       "      <td>-10</td>\n",
       "      <td>5</td>\n",
       "      <td>9.88556</td>\n",
       "      <td>1</td>\n",
       "    </tr>\n",
       "  </tbody>\n",
       "</table>\n",
       "</div>"
      ],
      "text/plain": [
       "   x1  x2  xavg     estim  subj\n",
       "0 -10   0    -5  -5.21220     1\n",
       "1 -10 -10   -10  -8.21768     1\n",
       "2  20  10    15 -17.93416     1\n",
       "3 -20  10    -5 -13.42634     1\n",
       "4  20 -10     5   9.88556     1"
      ]
     },
     "execution_count": 1,
     "metadata": {},
     "output_type": "execute_result"
    }
   ],
   "source": [
    "# import typical packages\n",
    "import numpy as np\n",
    "import matplotlib.pyplot as plt\n",
    "import pandas as pd\n",
    "\n",
    "# load the data from github\n",
    "df = pd.read_csv(\"https://raw.githubusercontent.com/wimmerlab/MBC-DataAnalysis/main/A1_Statistics/Rawdata_Perceptual_simple.csv\",sep=',')\n",
    "\n",
    "# uncomment if you prefer to load the data locally\n",
    "#df = pd.read_csv(\"../A1_Statistics\\Rawdata_Perceptual_simple.csv\",sep=',')\n",
    "\n",
    "# list of subjects\n",
    "subjects = np.unique(df.subj)\n",
    "\n",
    "df.head()"
   ]
  },
  {
   "cell_type": "markdown",
   "metadata": {},
   "source": [
    "## 1. The impact of introducing correlated regressors\n",
    "We want to understand how regression weights for a certain regressor $x1$ changes when we include into the model another regressor $x2$ that correlates with $x1$.\n",
    "We will illustrate that where $x1$ and $x2$ correspond to the two stimulus sequences in each trial (and the dependent variable is the orientation estimated by the subject). We will compare the model with the second stimulus as unique regressor with the model where both stimuli are included.\n",
    "But first, **let's check that these two stimuli are indeed correlated, using Pearson's correlation.** We will use `pearsonr` from the `scipy` package (note: `numpy` has its own function for computing the correlation - `corrcoef` - but it does not provide p-values)."
   ]
  },
  {
   "cell_type": "code",
   "execution_count": 2,
   "metadata": {},
   "outputs": [
    {
     "name": "stdout",
     "output_type": "stream",
     "text": [
      "Pearson's correlation coefficient 0.19056305211467897\n",
      "Pearson's correlation p-value 5.600404569562593e-118\n"
     ]
    }
   ],
   "source": [
    "from scipy.stats import pearsonr\n",
    "\n",
    "# compute Pearson's correlation coeff and corresponding p-values\n",
    "rho, corr_p = pearsonr(??,??)\n",
    "\n",
    "print(\"Pearson's correlation coefficient\", ??)\n",
    "print(\"Pearson's correlation p-value\", ??)"
   ]
  },
  {
   "cell_type": "markdown",
   "metadata": {},
   "source": [
    "**Are the first and second stimuli correlated? Why do you think that stimuli were generated that way?**"
   ]
  },
  {
   "cell_type": "markdown",
   "metadata": {},
   "source": [
    "*The correlation is positive ($\\rho \\approx 0.19$) and highly significant. This is because both stimulus sequences are generated from the same underlying distribution, which is either clockwise or counter-clockwise.*"
   ]
  },
  {
   "cell_type": "markdown",
   "metadata": {},
   "source": [
    "**Now let's fit the linear regression model with both stimuli as regressors.** We will make the comparison with the data of a single subject, subject 14."
   ]
  },
  {
   "cell_type": "code",
   "execution_count": 3,
   "metadata": {
    "ExecuteTime": {
     "end_time": "2022-02-04T22:46:53.929474Z",
     "start_time": "2022-02-04T22:46:53.866909Z"
    },
    "colab": {},
    "colab_type": "code",
    "id": "dONKI852M0Ed",
    "outputId": "d9e824c3-8060-443d-f4ad-5295ab98e8d2",
    "scrolled": true
   },
   "outputs": [
    {
     "data": {
      "text/html": [
       "<table class=\"simpletable\">\n",
       "<caption>OLS Regression Results</caption>\n",
       "<tr>\n",
       "  <th>Dep. Variable:</th>          <td>estim</td>      <th>  R-squared:         </th> <td>   0.102</td>\n",
       "</tr>\n",
       "<tr>\n",
       "  <th>Model:</th>                   <td>OLS</td>       <th>  Adj. R-squared:    </th> <td>   0.100</td>\n",
       "</tr>\n",
       "<tr>\n",
       "  <th>Method:</th>             <td>Least Squares</td>  <th>  F-statistic:       </th> <td>   58.28</td>\n",
       "</tr>\n",
       "<tr>\n",
       "  <th>Date:</th>             <td>Thu, 22 Feb 2024</td> <th>  Prob (F-statistic):</th> <td>1.05e-24</td>\n",
       "</tr>\n",
       "<tr>\n",
       "  <th>Time:</th>                 <td>12:09:39</td>     <th>  Log-Likelihood:    </th> <td> -4150.5</td>\n",
       "</tr>\n",
       "<tr>\n",
       "  <th>No. Observations:</th>      <td>  1034</td>      <th>  AIC:               </th> <td>   8307.</td>\n",
       "</tr>\n",
       "<tr>\n",
       "  <th>Df Residuals:</th>          <td>  1031</td>      <th>  BIC:               </th> <td>   8322.</td>\n",
       "</tr>\n",
       "<tr>\n",
       "  <th>Df Model:</th>              <td>     2</td>      <th>                     </th>     <td> </td>   \n",
       "</tr>\n",
       "<tr>\n",
       "  <th>Covariance Type:</th>      <td>nonrobust</td>    <th>                     </th>     <td> </td>   \n",
       "</tr>\n",
       "</table>\n",
       "<table class=\"simpletable\">\n",
       "<tr>\n",
       "      <td></td>         <th>coef</th>     <th>std err</th>      <th>t</th>      <th>P>|t|</th>  <th>[0.025</th>    <th>0.975]</th>  \n",
       "</tr>\n",
       "<tr>\n",
       "  <th>Intercept</th> <td>    3.7653</td> <td>    0.417</td> <td>    9.024</td> <td> 0.000</td> <td>    2.947</td> <td>    4.584</td>\n",
       "</tr>\n",
       "<tr>\n",
       "  <th>x1</th>        <td>    0.3311</td> <td>    0.031</td> <td>   10.518</td> <td> 0.000</td> <td>    0.269</td> <td>    0.393</td>\n",
       "</tr>\n",
       "<tr>\n",
       "  <th>x2</th>        <td>    0.0117</td> <td>    0.031</td> <td>    0.371</td> <td> 0.711</td> <td>   -0.050</td> <td>    0.073</td>\n",
       "</tr>\n",
       "</table>\n",
       "<table class=\"simpletable\">\n",
       "<tr>\n",
       "  <th>Omnibus:</th>       <td>241.912</td> <th>  Durbin-Watson:     </th> <td>   1.964</td>\n",
       "</tr>\n",
       "<tr>\n",
       "  <th>Prob(Omnibus):</th> <td> 0.000</td>  <th>  Jarque-Bera (JB):  </th> <td>  66.241</td>\n",
       "</tr>\n",
       "<tr>\n",
       "  <th>Skew:</th>          <td>-0.368</td>  <th>  Prob(JB):          </th> <td>4.13e-15</td>\n",
       "</tr>\n",
       "<tr>\n",
       "  <th>Kurtosis:</th>      <td> 2.001</td>  <th>  Cond. No.          </th> <td>    14.7</td>\n",
       "</tr>\n",
       "</table><br/><br/>Notes:<br/>[1] Standard Errors assume that the covariance matrix of the errors is correctly specified."
      ],
      "text/plain": [
       "<class 'statsmodels.iolib.summary.Summary'>\n",
       "\"\"\"\n",
       "                            OLS Regression Results                            \n",
       "==============================================================================\n",
       "Dep. Variable:                  estim   R-squared:                       0.102\n",
       "Model:                            OLS   Adj. R-squared:                  0.100\n",
       "Method:                 Least Squares   F-statistic:                     58.28\n",
       "Date:                Thu, 22 Feb 2024   Prob (F-statistic):           1.05e-24\n",
       "Time:                        12:09:39   Log-Likelihood:                -4150.5\n",
       "No. Observations:                1034   AIC:                             8307.\n",
       "Df Residuals:                    1031   BIC:                             8322.\n",
       "Df Model:                           2                                         \n",
       "Covariance Type:            nonrobust                                         \n",
       "==============================================================================\n",
       "                 coef    std err          t      P>|t|      [0.025      0.975]\n",
       "------------------------------------------------------------------------------\n",
       "Intercept      3.7653      0.417      9.024      0.000       2.947       4.584\n",
       "x1             0.3311      0.031     10.518      0.000       0.269       0.393\n",
       "x2             0.0117      0.031      0.371      0.711      -0.050       0.073\n",
       "==============================================================================\n",
       "Omnibus:                      241.912   Durbin-Watson:                   1.964\n",
       "Prob(Omnibus):                  0.000   Jarque-Bera (JB):               66.241\n",
       "Skew:                          -0.368   Prob(JB):                     4.13e-15\n",
       "Kurtosis:                       2.001   Cond. No.                         14.7\n",
       "==============================================================================\n",
       "\n",
       "Notes:\n",
       "[1] Standard Errors assume that the covariance matrix of the errors is correctly specified.\n",
       "\"\"\""
      ]
     },
     "execution_count": 3,
     "metadata": {},
     "output_type": "execute_result"
    }
   ],
   "source": [
    "# import OLS from statsmodel package\n",
    "from statsmodels.formula.api import ols\n",
    "\n",
    "# select dataframe for subject 14\n",
    "df_singlesubj = ???\n",
    "\n",
    "# define model formula and database (point to a dataframe)\n",
    "mod = ???\n",
    "\n",
    "# fit the model\n",
    "res = mod.fit()\n",
    "\n",
    "# summary\n",
    "res.summary()"
   ]
  },
  {
   "cell_type": "markdown",
   "metadata": {},
   "source": [
    "Now **fit the model with the second stimulus as unique regressor**, again for subject 14."
   ]
  },
  {
   "cell_type": "code",
   "execution_count": 4,
   "metadata": {
    "scrolled": false
   },
   "outputs": [
    {
     "data": {
      "text/html": [
       "<table class=\"simpletable\">\n",
       "<caption>OLS Regression Results</caption>\n",
       "<tr>\n",
       "  <th>Dep. Variable:</th>          <td>estim</td>      <th>  R-squared:         </th> <td>   0.005</td>\n",
       "</tr>\n",
       "<tr>\n",
       "  <th>Model:</th>                   <td>OLS</td>       <th>  Adj. R-squared:    </th> <td>   0.004</td>\n",
       "</tr>\n",
       "<tr>\n",
       "  <th>Method:</th>             <td>Least Squares</td>  <th>  F-statistic:       </th> <td>   5.353</td>\n",
       "</tr>\n",
       "<tr>\n",
       "  <th>Date:</th>             <td>Thu, 22 Feb 2024</td> <th>  Prob (F-statistic):</th>  <td>0.0209</td> \n",
       "</tr>\n",
       "<tr>\n",
       "  <th>Time:</th>                 <td>12:09:39</td>     <th>  Log-Likelihood:    </th> <td> -4203.2</td>\n",
       "</tr>\n",
       "<tr>\n",
       "  <th>No. Observations:</th>      <td>  1034</td>      <th>  AIC:               </th> <td>   8410.</td>\n",
       "</tr>\n",
       "<tr>\n",
       "  <th>Df Residuals:</th>          <td>  1032</td>      <th>  BIC:               </th> <td>   8420.</td>\n",
       "</tr>\n",
       "<tr>\n",
       "  <th>Df Model:</th>              <td>     1</td>      <th>                     </th>     <td> </td>   \n",
       "</tr>\n",
       "<tr>\n",
       "  <th>Covariance Type:</th>      <td>nonrobust</td>    <th>                     </th>     <td> </td>   \n",
       "</tr>\n",
       "</table>\n",
       "<table class=\"simpletable\">\n",
       "<tr>\n",
       "      <td></td>         <th>coef</th>     <th>std err</th>      <th>t</th>      <th>P>|t|</th>  <th>[0.025</th>    <th>0.975]</th>  \n",
       "</tr>\n",
       "<tr>\n",
       "  <th>Intercept</th> <td>    3.7583</td> <td>    0.439</td> <td>    8.564</td> <td> 0.000</td> <td>    2.897</td> <td>    4.620</td>\n",
       "</tr>\n",
       "<tr>\n",
       "  <th>x2</th>        <td>    0.0751</td> <td>    0.032</td> <td>    2.314</td> <td> 0.021</td> <td>    0.011</td> <td>    0.139</td>\n",
       "</tr>\n",
       "</table>\n",
       "<table class=\"simpletable\">\n",
       "<tr>\n",
       "  <th>Omnibus:</th>       <td>3035.567</td> <th>  Durbin-Watson:     </th> <td>   1.990</td>\n",
       "</tr>\n",
       "<tr>\n",
       "  <th>Prob(Omnibus):</th>  <td> 0.000</td>  <th>  Jarque-Bera (JB):  </th> <td> 121.133</td>\n",
       "</tr>\n",
       "<tr>\n",
       "  <th>Skew:</th>           <td>-0.520</td>  <th>  Prob(JB):          </th> <td>4.97e-27</td>\n",
       "</tr>\n",
       "<tr>\n",
       "  <th>Kurtosis:</th>       <td> 1.685</td>  <th>  Cond. No.          </th> <td>    13.5</td>\n",
       "</tr>\n",
       "</table><br/><br/>Notes:<br/>[1] Standard Errors assume that the covariance matrix of the errors is correctly specified."
      ],
      "text/plain": [
       "<class 'statsmodels.iolib.summary.Summary'>\n",
       "\"\"\"\n",
       "                            OLS Regression Results                            \n",
       "==============================================================================\n",
       "Dep. Variable:                  estim   R-squared:                       0.005\n",
       "Model:                            OLS   Adj. R-squared:                  0.004\n",
       "Method:                 Least Squares   F-statistic:                     5.353\n",
       "Date:                Thu, 22 Feb 2024   Prob (F-statistic):             0.0209\n",
       "Time:                        12:09:39   Log-Likelihood:                -4203.2\n",
       "No. Observations:                1034   AIC:                             8410.\n",
       "Df Residuals:                    1032   BIC:                             8420.\n",
       "Df Model:                           1                                         \n",
       "Covariance Type:            nonrobust                                         \n",
       "==============================================================================\n",
       "                 coef    std err          t      P>|t|      [0.025      0.975]\n",
       "------------------------------------------------------------------------------\n",
       "Intercept      3.7583      0.439      8.564      0.000       2.897       4.620\n",
       "x2             0.0751      0.032      2.314      0.021       0.011       0.139\n",
       "==============================================================================\n",
       "Omnibus:                     3035.567   Durbin-Watson:                   1.990\n",
       "Prob(Omnibus):                  0.000   Jarque-Bera (JB):              121.133\n",
       "Skew:                          -0.520   Prob(JB):                     4.97e-27\n",
       "Kurtosis:                       1.685   Cond. No.                         13.5\n",
       "==============================================================================\n",
       "\n",
       "Notes:\n",
       "[1] Standard Errors assume that the covariance matrix of the errors is correctly specified.\n",
       "\"\"\""
      ]
     },
     "execution_count": 4,
     "metadata": {},
     "output_type": "execute_result"
    }
   ],
   "source": [
    "?????"
   ]
  },
  {
   "cell_type": "markdown",
   "metadata": {},
   "source": [
    "**Compare the estimated values and p-values of the second stimulus regressor between the two models.**"
   ]
  },
  {
   "cell_type": "markdown",
   "metadata": {},
   "source": [
    "*The second stimulus regressor is not significant in the full model (value =0.0117, p>0.7). It is much larger (value = 0.0751) and significant (p=0.02) in the single-regressor model.*"
   ]
  },
  {
   "cell_type": "markdown",
   "metadata": {},
   "source": [
    "**Why did this happen?**"
   ]
  },
  {
   "cell_type": "markdown",
   "metadata": {},
   "source": [
    "*The weight is inflated in the single-regressor model as it corresponds both to the direct impact of the second stimulus onto the participant estimate, and to the impact of the first stimulus which is not included in the model (and does correlate with the second). In the fuller model, the impact of the first stimulus is directly explained by the corresponding regressor, so the weight for the second stimulus corresponds to the direct impact only (which is what we want). This illustrates why **we always need to include variables that are correlated with our variable of interest into a regression model**, even when the impact of these variables are not of interest to us (\"nuisance regressor\"). This avoids spurious significant effects like the one we found here for subject 14 (significant p-value in the single-regressor model, yet the real impact of the second stimulus is not significant).*"
   ]
  },
  {
   "cell_type": "markdown",
   "metadata": {},
   "source": [
    "## 2. Colinear regressors\n",
    "We now turn to the problem of colinear regressors. A set of $n$ regressors is said to be colinear if there is a **linear combination of them that always gives 0**, for all trials (observations). For example if regressors $(x_1,x_2,x_3)$ (out of all regressor models) are such that $x_1 + 2x_2- 4x_3=0$. Basically it means that these **regressors encode redundant information**. This is a serious problem because there is an equivalence between different sets of weights (actually each set of weights is equivalent to an infinity of other sets), so we cannot provide unique estimates of the weights. The model is then said to be **unidentifiable**.\n",
    "This is illustrated below, where we want to see the impact of the average stimulus (`xavg`) separately for different bins of the value. Such binning is useful for example if we want to check that the impact of the stimulus is really linear, as implicitly assumed if we declare the model ` estim ~ xavg`.\n",
    "\n",
    "First let us bin the values of the average stimulus into 6 different bins, using the function `cut` (in pandas)."
   ]
  },
  {
   "cell_type": "code",
   "execution_count": 5,
   "metadata": {
    "scrolled": true
   },
   "outputs": [
    {
     "data": {
      "text/html": [
       "<div>\n",
       "<style scoped>\n",
       "    .dataframe tbody tr th:only-of-type {\n",
       "        vertical-align: middle;\n",
       "    }\n",
       "\n",
       "    .dataframe tbody tr th {\n",
       "        vertical-align: top;\n",
       "    }\n",
       "\n",
       "    .dataframe thead th {\n",
       "        text-align: right;\n",
       "    }\n",
       "</style>\n",
       "<table border=\"1\" class=\"dataframe\">\n",
       "  <thead>\n",
       "    <tr style=\"text-align: right;\">\n",
       "      <th></th>\n",
       "      <th>x1</th>\n",
       "      <th>x2</th>\n",
       "      <th>xavg</th>\n",
       "      <th>estim</th>\n",
       "      <th>subj</th>\n",
       "      <th>x_bin</th>\n",
       "    </tr>\n",
       "  </thead>\n",
       "  <tbody>\n",
       "    <tr>\n",
       "      <th>0</th>\n",
       "      <td>-10</td>\n",
       "      <td>0</td>\n",
       "      <td>-5</td>\n",
       "      <td>-5.21220</td>\n",
       "      <td>1</td>\n",
       "      <td>(-6.667, 0.0]</td>\n",
       "    </tr>\n",
       "    <tr>\n",
       "      <th>1</th>\n",
       "      <td>-10</td>\n",
       "      <td>-10</td>\n",
       "      <td>-10</td>\n",
       "      <td>-8.21768</td>\n",
       "      <td>1</td>\n",
       "      <td>(-13.333, -6.667]</td>\n",
       "    </tr>\n",
       "    <tr>\n",
       "      <th>2</th>\n",
       "      <td>20</td>\n",
       "      <td>10</td>\n",
       "      <td>15</td>\n",
       "      <td>-17.93416</td>\n",
       "      <td>1</td>\n",
       "      <td>(13.333, 20.0]</td>\n",
       "    </tr>\n",
       "    <tr>\n",
       "      <th>3</th>\n",
       "      <td>-20</td>\n",
       "      <td>10</td>\n",
       "      <td>-5</td>\n",
       "      <td>-13.42634</td>\n",
       "      <td>1</td>\n",
       "      <td>(-6.667, 0.0]</td>\n",
       "    </tr>\n",
       "    <tr>\n",
       "      <th>4</th>\n",
       "      <td>20</td>\n",
       "      <td>-10</td>\n",
       "      <td>5</td>\n",
       "      <td>9.88556</td>\n",
       "      <td>1</td>\n",
       "      <td>(0.0, 6.667]</td>\n",
       "    </tr>\n",
       "  </tbody>\n",
       "</table>\n",
       "</div>"
      ],
      "text/plain": [
       "   x1  x2  xavg     estim  subj              x_bin\n",
       "0 -10   0    -5  -5.21220     1      (-6.667, 0.0]\n",
       "1 -10 -10   -10  -8.21768     1  (-13.333, -6.667]\n",
       "2  20  10    15 -17.93416     1     (13.333, 20.0]\n",
       "3 -20  10    -5 -13.42634     1      (-6.667, 0.0]\n",
       "4  20 -10     5   9.88556     1       (0.0, 6.667]"
      ]
     },
     "execution_count": 5,
     "metadata": {},
     "output_type": "execute_result"
    }
   ],
   "source": [
    "# number of bins\n",
    "nBin = 6\n",
    "\n",
    "# add a new variable with binned values (the bin boundaries are defined automatically)\n",
    "df['x_bin'] = pd.cut(df.xavg,nBin)\n",
    "df.head()"
   ]
  },
  {
   "cell_type": "markdown",
   "metadata": {},
   "source": [
    "Now, to use these values as regressors, let's **create a different binary variable corresponding to each of these bins** (so that for example `bin1`=1 if the value `xavg` falls in the first bin, 0 otherwise). What we are doing is called *one-hot encoding*: defining one binary variable for each value of the categorical variable `x_bin`."
   ]
  },
  {
   "cell_type": "code",
   "execution_count": 6,
   "metadata": {
    "scrolled": true
   },
   "outputs": [
    {
     "data": {
      "text/html": [
       "<div>\n",
       "<style scoped>\n",
       "    .dataframe tbody tr th:only-of-type {\n",
       "        vertical-align: middle;\n",
       "    }\n",
       "\n",
       "    .dataframe tbody tr th {\n",
       "        vertical-align: top;\n",
       "    }\n",
       "\n",
       "    .dataframe thead th {\n",
       "        text-align: right;\n",
       "    }\n",
       "</style>\n",
       "<table border=\"1\" class=\"dataframe\">\n",
       "  <thead>\n",
       "    <tr style=\"text-align: right;\">\n",
       "      <th></th>\n",
       "      <th>x1</th>\n",
       "      <th>x2</th>\n",
       "      <th>xavg</th>\n",
       "      <th>estim</th>\n",
       "      <th>subj</th>\n",
       "      <th>x_bin</th>\n",
       "      <th>bin1</th>\n",
       "      <th>bin2</th>\n",
       "      <th>bin3</th>\n",
       "      <th>bin4</th>\n",
       "      <th>bin5</th>\n",
       "      <th>bin6</th>\n",
       "    </tr>\n",
       "  </thead>\n",
       "  <tbody>\n",
       "    <tr>\n",
       "      <th>0</th>\n",
       "      <td>-10</td>\n",
       "      <td>0</td>\n",
       "      <td>-5</td>\n",
       "      <td>-5.21220</td>\n",
       "      <td>1</td>\n",
       "      <td>(-6.667, 0.0]</td>\n",
       "      <td>0</td>\n",
       "      <td>0</td>\n",
       "      <td>1</td>\n",
       "      <td>0</td>\n",
       "      <td>0</td>\n",
       "      <td>0</td>\n",
       "    </tr>\n",
       "    <tr>\n",
       "      <th>1</th>\n",
       "      <td>-10</td>\n",
       "      <td>-10</td>\n",
       "      <td>-10</td>\n",
       "      <td>-8.21768</td>\n",
       "      <td>1</td>\n",
       "      <td>(-13.333, -6.667]</td>\n",
       "      <td>0</td>\n",
       "      <td>1</td>\n",
       "      <td>0</td>\n",
       "      <td>0</td>\n",
       "      <td>0</td>\n",
       "      <td>0</td>\n",
       "    </tr>\n",
       "    <tr>\n",
       "      <th>2</th>\n",
       "      <td>20</td>\n",
       "      <td>10</td>\n",
       "      <td>15</td>\n",
       "      <td>-17.93416</td>\n",
       "      <td>1</td>\n",
       "      <td>(13.333, 20.0]</td>\n",
       "      <td>0</td>\n",
       "      <td>0</td>\n",
       "      <td>0</td>\n",
       "      <td>0</td>\n",
       "      <td>0</td>\n",
       "      <td>1</td>\n",
       "    </tr>\n",
       "    <tr>\n",
       "      <th>3</th>\n",
       "      <td>-20</td>\n",
       "      <td>10</td>\n",
       "      <td>-5</td>\n",
       "      <td>-13.42634</td>\n",
       "      <td>1</td>\n",
       "      <td>(-6.667, 0.0]</td>\n",
       "      <td>0</td>\n",
       "      <td>0</td>\n",
       "      <td>1</td>\n",
       "      <td>0</td>\n",
       "      <td>0</td>\n",
       "      <td>0</td>\n",
       "    </tr>\n",
       "    <tr>\n",
       "      <th>4</th>\n",
       "      <td>20</td>\n",
       "      <td>-10</td>\n",
       "      <td>5</td>\n",
       "      <td>9.88556</td>\n",
       "      <td>1</td>\n",
       "      <td>(0.0, 6.667]</td>\n",
       "      <td>0</td>\n",
       "      <td>0</td>\n",
       "      <td>0</td>\n",
       "      <td>1</td>\n",
       "      <td>0</td>\n",
       "      <td>0</td>\n",
       "    </tr>\n",
       "    <tr>\n",
       "      <th>5</th>\n",
       "      <td>-20</td>\n",
       "      <td>0</td>\n",
       "      <td>-10</td>\n",
       "      <td>-14.17070</td>\n",
       "      <td>1</td>\n",
       "      <td>(-13.333, -6.667]</td>\n",
       "      <td>0</td>\n",
       "      <td>1</td>\n",
       "      <td>0</td>\n",
       "      <td>0</td>\n",
       "      <td>0</td>\n",
       "      <td>0</td>\n",
       "    </tr>\n",
       "    <tr>\n",
       "      <th>6</th>\n",
       "      <td>-20</td>\n",
       "      <td>-20</td>\n",
       "      <td>-20</td>\n",
       "      <td>-8.83053</td>\n",
       "      <td>1</td>\n",
       "      <td>(-20.04, -13.333]</td>\n",
       "      <td>1</td>\n",
       "      <td>0</td>\n",
       "      <td>0</td>\n",
       "      <td>0</td>\n",
       "      <td>0</td>\n",
       "      <td>0</td>\n",
       "    </tr>\n",
       "    <tr>\n",
       "      <th>7</th>\n",
       "      <td>0</td>\n",
       "      <td>10</td>\n",
       "      <td>5</td>\n",
       "      <td>15.12759</td>\n",
       "      <td>1</td>\n",
       "      <td>(0.0, 6.667]</td>\n",
       "      <td>0</td>\n",
       "      <td>0</td>\n",
       "      <td>0</td>\n",
       "      <td>1</td>\n",
       "      <td>0</td>\n",
       "      <td>0</td>\n",
       "    </tr>\n",
       "    <tr>\n",
       "      <th>8</th>\n",
       "      <td>-20</td>\n",
       "      <td>10</td>\n",
       "      <td>-5</td>\n",
       "      <td>-11.17976</td>\n",
       "      <td>1</td>\n",
       "      <td>(-6.667, 0.0]</td>\n",
       "      <td>0</td>\n",
       "      <td>0</td>\n",
       "      <td>1</td>\n",
       "      <td>0</td>\n",
       "      <td>0</td>\n",
       "      <td>0</td>\n",
       "    </tr>\n",
       "    <tr>\n",
       "      <th>9</th>\n",
       "      <td>-10</td>\n",
       "      <td>-20</td>\n",
       "      <td>-15</td>\n",
       "      <td>-12.24974</td>\n",
       "      <td>1</td>\n",
       "      <td>(-20.04, -13.333]</td>\n",
       "      <td>1</td>\n",
       "      <td>0</td>\n",
       "      <td>0</td>\n",
       "      <td>0</td>\n",
       "      <td>0</td>\n",
       "      <td>0</td>\n",
       "    </tr>\n",
       "  </tbody>\n",
       "</table>\n",
       "</div>"
      ],
      "text/plain": [
       "   x1  x2  xavg     estim  subj              x_bin  bin1  bin2  bin3  bin4  \\\n",
       "0 -10   0    -5  -5.21220     1      (-6.667, 0.0]     0     0     1     0   \n",
       "1 -10 -10   -10  -8.21768     1  (-13.333, -6.667]     0     1     0     0   \n",
       "2  20  10    15 -17.93416     1     (13.333, 20.0]     0     0     0     0   \n",
       "3 -20  10    -5 -13.42634     1      (-6.667, 0.0]     0     0     1     0   \n",
       "4  20 -10     5   9.88556     1       (0.0, 6.667]     0     0     0     1   \n",
       "5 -20   0   -10 -14.17070     1  (-13.333, -6.667]     0     1     0     0   \n",
       "6 -20 -20   -20  -8.83053     1  (-20.04, -13.333]     1     0     0     0   \n",
       "7   0  10     5  15.12759     1       (0.0, 6.667]     0     0     0     1   \n",
       "8 -20  10    -5 -11.17976     1      (-6.667, 0.0]     0     0     1     0   \n",
       "9 -10 -20   -15 -12.24974     1  (-20.04, -13.333]     1     0     0     0   \n",
       "\n",
       "   bin5  bin6  \n",
       "0     0     0  \n",
       "1     0     0  \n",
       "2     0     1  \n",
       "3     0     0  \n",
       "4     0     0  \n",
       "5     0     0  \n",
       "6     0     0  \n",
       "7     0     0  \n",
       "8     0     0  \n",
       "9     0     0  "
      ]
     },
     "execution_count": 6,
     "metadata": {},
     "output_type": "execute_result"
    }
   ],
   "source": [
    "# labels for all of the bins\n",
    "bin_label = ??\n",
    "\n",
    "# for each bin\n",
    "for i, bin in enumerate(bin_label):\n",
    "\n",
    "    # name of the new variable\n",
    "    lbl = \"bin\"+str(i+1)\n",
    "    \n",
    "    # define variable with boolean condition (and multiply by one to convert to 0/1)\n",
    "    df[lbl] = 1*(??)\n",
    "    \n",
    "df.head(10)"
   ]
  },
  {
   "cell_type": "markdown",
   "metadata": {},
   "source": [
    "Take a second to check that the variables have been correctly encoded."
   ]
  },
  {
   "cell_type": "markdown",
   "metadata": {},
   "source": [
    "Now let's pretend to be naive and **fit a linear regression model with all of these binary variables as regressors** (using all subjects at once)."
   ]
  },
  {
   "cell_type": "code",
   "execution_count": 7,
   "metadata": {
    "scrolled": true
   },
   "outputs": [
    {
     "data": {
      "text/html": [
       "<table class=\"simpletable\">\n",
       "<caption>OLS Regression Results</caption>\n",
       "<tr>\n",
       "  <th>Dep. Variable:</th>          <td>estim</td>      <th>  R-squared:         </th> <td>   0.033</td> \n",
       "</tr>\n",
       "<tr>\n",
       "  <th>Model:</th>                   <td>OLS</td>       <th>  Adj. R-squared:    </th> <td>   0.033</td> \n",
       "</tr>\n",
       "<tr>\n",
       "  <th>Method:</th>             <td>Least Squares</td>  <th>  F-statistic:       </th> <td>   98.69</td> \n",
       "</tr>\n",
       "<tr>\n",
       "  <th>Date:</th>             <td>Thu, 22 Feb 2024</td> <th>  Prob (F-statistic):</th> <td>1.23e-102</td>\n",
       "</tr>\n",
       "<tr>\n",
       "  <th>Time:</th>                 <td>12:09:39</td>     <th>  Log-Likelihood:    </th> <td> -65698.</td> \n",
       "</tr>\n",
       "<tr>\n",
       "  <th>No. Observations:</th>      <td> 14418</td>      <th>  AIC:               </th> <td>1.314e+05</td>\n",
       "</tr>\n",
       "<tr>\n",
       "  <th>Df Residuals:</th>          <td> 14412</td>      <th>  BIC:               </th> <td>1.315e+05</td>\n",
       "</tr>\n",
       "<tr>\n",
       "  <th>Df Model:</th>              <td>     5</td>      <th>                     </th>     <td> </td>    \n",
       "</tr>\n",
       "<tr>\n",
       "  <th>Covariance Type:</th>      <td>nonrobust</td>    <th>                     </th>     <td> </td>    \n",
       "</tr>\n",
       "</table>\n",
       "<table class=\"simpletable\">\n",
       "<tr>\n",
       "      <td></td>         <th>coef</th>     <th>std err</th>      <th>t</th>      <th>P>|t|</th>  <th>[0.025</th>    <th>0.975]</th>  \n",
       "</tr>\n",
       "<tr>\n",
       "  <th>Intercept</th> <td>    0.9386</td> <td>    0.173</td> <td>    5.431</td> <td> 0.000</td> <td>    0.600</td> <td>    1.277</td>\n",
       "</tr>\n",
       "<tr>\n",
       "  <th>bin1</th>      <td>   -6.8748</td> <td>    0.481</td> <td>  -14.281</td> <td> 0.000</td> <td>   -7.818</td> <td>   -5.931</td>\n",
       "</tr>\n",
       "<tr>\n",
       "  <th>bin2</th>      <td>   -4.0182</td> <td>    0.481</td> <td>   -8.351</td> <td> 0.000</td> <td>   -4.961</td> <td>   -3.075</td>\n",
       "</tr>\n",
       "<tr>\n",
       "  <th>bin3</th>      <td>   -1.4375</td> <td>    0.341</td> <td>   -4.213</td> <td> 0.000</td> <td>   -2.106</td> <td>   -0.769</td>\n",
       "</tr>\n",
       "<tr>\n",
       "  <th>bin4</th>      <td>    1.9072</td> <td>    0.426</td> <td>    4.476</td> <td> 0.000</td> <td>    1.072</td> <td>    2.742</td>\n",
       "</tr>\n",
       "<tr>\n",
       "  <th>bin5</th>      <td>    4.7267</td> <td>    0.481</td> <td>    9.823</td> <td> 0.000</td> <td>    3.784</td> <td>    5.670</td>\n",
       "</tr>\n",
       "<tr>\n",
       "  <th>bin6</th>      <td>    6.6353</td> <td>    0.481</td> <td>   13.783</td> <td> 0.000</td> <td>    5.692</td> <td>    7.579</td>\n",
       "</tr>\n",
       "</table>\n",
       "<table class=\"simpletable\">\n",
       "<tr>\n",
       "  <th>Omnibus:</th>       <td>5050.296</td> <th>  Durbin-Watson:     </th>  <td>   1.754</td> \n",
       "</tr>\n",
       "<tr>\n",
       "  <th>Prob(Omnibus):</th>  <td> 0.000</td>  <th>  Jarque-Bera (JB):  </th> <td>292783.194</td>\n",
       "</tr>\n",
       "<tr>\n",
       "  <th>Skew:</th>           <td> 0.878</td>  <th>  Prob(JB):          </th>  <td>    0.00</td> \n",
       "</tr>\n",
       "<tr>\n",
       "  <th>Kurtosis:</th>       <td>25.006</td>  <th>  Cond. No.          </th>  <td>3.85e+15</td> \n",
       "</tr>\n",
       "</table><br/><br/>Notes:<br/>[1] Standard Errors assume that the covariance matrix of the errors is correctly specified.<br/>[2] The smallest eigenvalue is 1.17e-27. This might indicate that there are<br/>strong multicollinearity problems or that the design matrix is singular."
      ],
      "text/plain": [
       "<class 'statsmodels.iolib.summary.Summary'>\n",
       "\"\"\"\n",
       "                            OLS Regression Results                            \n",
       "==============================================================================\n",
       "Dep. Variable:                  estim   R-squared:                       0.033\n",
       "Model:                            OLS   Adj. R-squared:                  0.033\n",
       "Method:                 Least Squares   F-statistic:                     98.69\n",
       "Date:                Thu, 22 Feb 2024   Prob (F-statistic):          1.23e-102\n",
       "Time:                        12:09:39   Log-Likelihood:                -65698.\n",
       "No. Observations:               14418   AIC:                         1.314e+05\n",
       "Df Residuals:                   14412   BIC:                         1.315e+05\n",
       "Df Model:                           5                                         \n",
       "Covariance Type:            nonrobust                                         \n",
       "==============================================================================\n",
       "                 coef    std err          t      P>|t|      [0.025      0.975]\n",
       "------------------------------------------------------------------------------\n",
       "Intercept      0.9386      0.173      5.431      0.000       0.600       1.277\n",
       "bin1          -6.8748      0.481    -14.281      0.000      -7.818      -5.931\n",
       "bin2          -4.0182      0.481     -8.351      0.000      -4.961      -3.075\n",
       "bin3          -1.4375      0.341     -4.213      0.000      -2.106      -0.769\n",
       "bin4           1.9072      0.426      4.476      0.000       1.072       2.742\n",
       "bin5           4.7267      0.481      9.823      0.000       3.784       5.670\n",
       "bin6           6.6353      0.481     13.783      0.000       5.692       7.579\n",
       "==============================================================================\n",
       "Omnibus:                     5050.296   Durbin-Watson:                   1.754\n",
       "Prob(Omnibus):                  0.000   Jarque-Bera (JB):           292783.194\n",
       "Skew:                           0.878   Prob(JB):                         0.00\n",
       "Kurtosis:                      25.006   Cond. No.                     3.85e+15\n",
       "==============================================================================\n",
       "\n",
       "Notes:\n",
       "[1] Standard Errors assume that the covariance matrix of the errors is correctly specified.\n",
       "[2] The smallest eigenvalue is 1.17e-27. This might indicate that there are\n",
       "strong multicollinearity problems or that the design matrix is singular.\n",
       "\"\"\""
      ]
     },
     "execution_count": 7,
     "metadata": {},
     "output_type": "execute_result"
    }
   ],
   "source": [
    "# define model formula and database (point to a dataframe)\n",
    "mod = ???\n",
    "\n",
    "# fit the model\n",
    "res_altogether = mod.fit()\n",
    "\n",
    "# The coefficients\n",
    "res_altogether.summary()"
   ]
  },
  {
   "cell_type": "markdown",
   "metadata": {},
   "source": [
    "Apparently, everything fine... but let's scroll down until the end of the summary with note \\[2\\]. There is one word within this cryptic message that should raise all alarm bells: multicollinearity! Indeed our regressors are colinear. To see this, first reply this question: **in each trial, what is the sum of all 6 bin regressors?**"
   ]
  },
  {
   "cell_type": "markdown",
   "metadata": {},
   "source": [
    "*The sum is always one. This is because in each trial, the value of the binary variable is 1 for one and only one bin, and zeros for the other bins. So their sum is one.*"
   ]
  },
  {
   "cell_type": "markdown",
   "metadata": {},
   "source": [
    "Collinearity (or multicollinearity) appears when a linear combination of a set of regressors is always null. **What linear combination of regressors is always null?** (Hint: remember there's a regressor of ones for the intercept)."
   ]
  },
  {
   "cell_type": "markdown",
   "metadata": {},
   "source": [
    "*If we note $x_0=1$ the fixed regressor included for the intercept, then we find that $bin1 + bin2 + bin3 + bin4 + bin5 + bin6 - x_0 = 0$, for all trials.*"
   ]
  },
  {
   "cell_type": "markdown",
   "metadata": {},
   "source": [
    "Our system of regressors is multicollinear, i.e. redundant, which means that we should not interpret the estimated weights (or p-values). **The weights of a regression model with colinear regressors are meaningless!** (since they cannot be uniquely determined)\n",
    "\n",
    "We are left with no other choice than removing one of the regressors. We will compare two methods for doing so.\n",
    "First, **fit the same model but without the regressor corresponding to the first bin of stimulus value**.\n",
    "\n",
    "Note: you can check that this gives exactly the same as declaring `x_bin` as a categorical regressor into the model using the formula with `C(x_bin)`. In this case, one-hot encoding is implicitly applied when defining the formula."
   ]
  },
  {
   "cell_type": "code",
   "execution_count": 8,
   "metadata": {
    "scrolled": true
   },
   "outputs": [
    {
     "data": {
      "text/html": [
       "<table class=\"simpletable\">\n",
       "<caption>OLS Regression Results</caption>\n",
       "<tr>\n",
       "  <th>Dep. Variable:</th>          <td>estim</td>      <th>  R-squared:         </th> <td>   0.033</td> \n",
       "</tr>\n",
       "<tr>\n",
       "  <th>Model:</th>                   <td>OLS</td>       <th>  Adj. R-squared:    </th> <td>   0.033</td> \n",
       "</tr>\n",
       "<tr>\n",
       "  <th>Method:</th>             <td>Least Squares</td>  <th>  F-statistic:       </th> <td>   98.69</td> \n",
       "</tr>\n",
       "<tr>\n",
       "  <th>Date:</th>             <td>Thu, 22 Feb 2024</td> <th>  Prob (F-statistic):</th> <td>1.23e-102</td>\n",
       "</tr>\n",
       "<tr>\n",
       "  <th>Time:</th>                 <td>12:09:39</td>     <th>  Log-Likelihood:    </th> <td> -65698.</td> \n",
       "</tr>\n",
       "<tr>\n",
       "  <th>No. Observations:</th>      <td> 14418</td>      <th>  AIC:               </th> <td>1.314e+05</td>\n",
       "</tr>\n",
       "<tr>\n",
       "  <th>Df Residuals:</th>          <td> 14412</td>      <th>  BIC:               </th> <td>1.315e+05</td>\n",
       "</tr>\n",
       "<tr>\n",
       "  <th>Df Model:</th>              <td>     5</td>      <th>                     </th>     <td> </td>    \n",
       "</tr>\n",
       "<tr>\n",
       "  <th>Covariance Type:</th>      <td>nonrobust</td>    <th>                     </th>     <td> </td>    \n",
       "</tr>\n",
       "</table>\n",
       "<table class=\"simpletable\">\n",
       "<tr>\n",
       "      <td></td>         <th>coef</th>     <th>std err</th>      <th>t</th>      <th>P>|t|</th>  <th>[0.025</th>    <th>0.975]</th>  \n",
       "</tr>\n",
       "<tr>\n",
       "  <th>Intercept</th> <td>   -5.9361</td> <td>    0.532</td> <td>  -11.166</td> <td> 0.000</td> <td>   -6.978</td> <td>   -4.894</td>\n",
       "</tr>\n",
       "<tr>\n",
       "  <th>bin2</th>      <td>    2.8565</td> <td>    0.752</td> <td>    3.800</td> <td> 0.000</td> <td>    1.383</td> <td>    4.330</td>\n",
       "</tr>\n",
       "<tr>\n",
       "  <th>bin3</th>      <td>    5.4373</td> <td>    0.635</td> <td>    8.556</td> <td> 0.000</td> <td>    4.192</td> <td>    6.683</td>\n",
       "</tr>\n",
       "<tr>\n",
       "  <th>bin4</th>      <td>    8.7819</td> <td>    0.704</td> <td>   12.482</td> <td> 0.000</td> <td>    7.403</td> <td>   10.161</td>\n",
       "</tr>\n",
       "<tr>\n",
       "  <th>bin5</th>      <td>   11.6014</td> <td>    0.752</td> <td>   15.435</td> <td> 0.000</td> <td>   10.128</td> <td>   13.075</td>\n",
       "</tr>\n",
       "<tr>\n",
       "  <th>bin6</th>      <td>   13.5100</td> <td>    0.752</td> <td>   17.969</td> <td> 0.000</td> <td>   12.036</td> <td>   14.984</td>\n",
       "</tr>\n",
       "</table>\n",
       "<table class=\"simpletable\">\n",
       "<tr>\n",
       "  <th>Omnibus:</th>       <td>5050.296</td> <th>  Durbin-Watson:     </th>  <td>   1.754</td> \n",
       "</tr>\n",
       "<tr>\n",
       "  <th>Prob(Omnibus):</th>  <td> 0.000</td>  <th>  Jarque-Bera (JB):  </th> <td>292783.194</td>\n",
       "</tr>\n",
       "<tr>\n",
       "  <th>Skew:</th>           <td> 0.878</td>  <th>  Prob(JB):          </th>  <td>    0.00</td> \n",
       "</tr>\n",
       "<tr>\n",
       "  <th>Kurtosis:</th>       <td>25.006</td>  <th>  Cond. No.          </th>  <td>    7.81</td> \n",
       "</tr>\n",
       "</table><br/><br/>Notes:<br/>[1] Standard Errors assume that the covariance matrix of the errors is correctly specified."
      ],
      "text/plain": [
       "<class 'statsmodels.iolib.summary.Summary'>\n",
       "\"\"\"\n",
       "                            OLS Regression Results                            \n",
       "==============================================================================\n",
       "Dep. Variable:                  estim   R-squared:                       0.033\n",
       "Model:                            OLS   Adj. R-squared:                  0.033\n",
       "Method:                 Least Squares   F-statistic:                     98.69\n",
       "Date:                Thu, 22 Feb 2024   Prob (F-statistic):          1.23e-102\n",
       "Time:                        12:09:39   Log-Likelihood:                -65698.\n",
       "No. Observations:               14418   AIC:                         1.314e+05\n",
       "Df Residuals:                   14412   BIC:                         1.315e+05\n",
       "Df Model:                           5                                         \n",
       "Covariance Type:            nonrobust                                         \n",
       "==============================================================================\n",
       "                 coef    std err          t      P>|t|      [0.025      0.975]\n",
       "------------------------------------------------------------------------------\n",
       "Intercept     -5.9361      0.532    -11.166      0.000      -6.978      -4.894\n",
       "bin2           2.8565      0.752      3.800      0.000       1.383       4.330\n",
       "bin3           5.4373      0.635      8.556      0.000       4.192       6.683\n",
       "bin4           8.7819      0.704     12.482      0.000       7.403      10.161\n",
       "bin5          11.6014      0.752     15.435      0.000      10.128      13.075\n",
       "bin6          13.5100      0.752     17.969      0.000      12.036      14.984\n",
       "==============================================================================\n",
       "Omnibus:                     5050.296   Durbin-Watson:                   1.754\n",
       "Prob(Omnibus):                  0.000   Jarque-Bera (JB):           292783.194\n",
       "Skew:                           0.878   Prob(JB):                         0.00\n",
       "Kurtosis:                      25.006   Cond. No.                         7.81\n",
       "==============================================================================\n",
       "\n",
       "Notes:\n",
       "[1] Standard Errors assume that the covariance matrix of the errors is correctly specified.\n",
       "\"\"\""
      ]
     },
     "execution_count": 8,
     "metadata": {},
     "output_type": "execute_result"
    }
   ],
   "source": [
    "# define model formula and database (point to a dataframe)\n",
    "mod_nobin1 = ???\n",
    "\n",
    "# fit the model\n",
    "res_nobin1 = mod_nobin1.fit()\n",
    "\n",
    "# The coefficients\n",
    "res_nobin1.summary()"
   ]
  },
  {
   "cell_type": "markdown",
   "metadata": {},
   "source": [
    "Another possibility is to remove the fixed regressor that captures the intercept. This regressor is included automatically by default by `ols`, but we can choose not to include it by adding `+0` in the formula. For example, `estim ~ xavg + 0` fits a simple linear regression model without intercept. **Fit the model with all stimulus bin regressors but no intercept.**"
   ]
  },
  {
   "cell_type": "code",
   "execution_count": 9,
   "metadata": {},
   "outputs": [
    {
     "data": {
      "text/html": [
       "<table class=\"simpletable\">\n",
       "<caption>OLS Regression Results</caption>\n",
       "<tr>\n",
       "  <th>Dep. Variable:</th>          <td>estim</td>      <th>  R-squared:         </th> <td>   0.033</td> \n",
       "</tr>\n",
       "<tr>\n",
       "  <th>Model:</th>                   <td>OLS</td>       <th>  Adj. R-squared:    </th> <td>   0.033</td> \n",
       "</tr>\n",
       "<tr>\n",
       "  <th>Method:</th>             <td>Least Squares</td>  <th>  F-statistic:       </th> <td>   98.69</td> \n",
       "</tr>\n",
       "<tr>\n",
       "  <th>Date:</th>             <td>Thu, 22 Feb 2024</td> <th>  Prob (F-statistic):</th> <td>1.23e-102</td>\n",
       "</tr>\n",
       "<tr>\n",
       "  <th>Time:</th>                 <td>12:09:39</td>     <th>  Log-Likelihood:    </th> <td> -65698.</td> \n",
       "</tr>\n",
       "<tr>\n",
       "  <th>No. Observations:</th>      <td> 14418</td>      <th>  AIC:               </th> <td>1.314e+05</td>\n",
       "</tr>\n",
       "<tr>\n",
       "  <th>Df Residuals:</th>          <td> 14412</td>      <th>  BIC:               </th> <td>1.315e+05</td>\n",
       "</tr>\n",
       "<tr>\n",
       "  <th>Df Model:</th>              <td>     5</td>      <th>                     </th>     <td> </td>    \n",
       "</tr>\n",
       "<tr>\n",
       "  <th>Covariance Type:</th>      <td>nonrobust</td>    <th>                     </th>     <td> </td>    \n",
       "</tr>\n",
       "</table>\n",
       "<table class=\"simpletable\">\n",
       "<tr>\n",
       "    <td></td>      <th>coef</th>     <th>std err</th>      <th>t</th>      <th>P>|t|</th>  <th>[0.025</th>    <th>0.975]</th>  \n",
       "</tr>\n",
       "<tr>\n",
       "  <th>bin1</th> <td>   -5.9361</td> <td>    0.532</td> <td>  -11.166</td> <td> 0.000</td> <td>   -6.978</td> <td>   -4.894</td>\n",
       "</tr>\n",
       "<tr>\n",
       "  <th>bin2</th> <td>   -3.0796</td> <td>    0.531</td> <td>   -5.796</td> <td> 0.000</td> <td>   -4.121</td> <td>   -2.038</td>\n",
       "</tr>\n",
       "<tr>\n",
       "  <th>bin3</th> <td>   -0.4988</td> <td>    0.348</td> <td>   -1.433</td> <td> 0.152</td> <td>   -1.181</td> <td>    0.184</td>\n",
       "</tr>\n",
       "<tr>\n",
       "  <th>bin4</th> <td>    2.8458</td> <td>    0.461</td> <td>    6.175</td> <td> 0.000</td> <td>    1.942</td> <td>    3.749</td>\n",
       "</tr>\n",
       "<tr>\n",
       "  <th>bin5</th> <td>    5.6653</td> <td>    0.531</td> <td>   10.662</td> <td> 0.000</td> <td>    4.624</td> <td>    6.707</td>\n",
       "</tr>\n",
       "<tr>\n",
       "  <th>bin6</th> <td>    7.5739</td> <td>    0.532</td> <td>   14.247</td> <td> 0.000</td> <td>    6.532</td> <td>    8.616</td>\n",
       "</tr>\n",
       "</table>\n",
       "<table class=\"simpletable\">\n",
       "<tr>\n",
       "  <th>Omnibus:</th>       <td>5050.296</td> <th>  Durbin-Watson:     </th>  <td>   1.754</td> \n",
       "</tr>\n",
       "<tr>\n",
       "  <th>Prob(Omnibus):</th>  <td> 0.000</td>  <th>  Jarque-Bera (JB):  </th> <td>292783.194</td>\n",
       "</tr>\n",
       "<tr>\n",
       "  <th>Skew:</th>           <td> 0.878</td>  <th>  Prob(JB):          </th>  <td>    0.00</td> \n",
       "</tr>\n",
       "<tr>\n",
       "  <th>Kurtosis:</th>       <td>25.006</td>  <th>  Cond. No.          </th>  <td>    1.53</td> \n",
       "</tr>\n",
       "</table><br/><br/>Notes:<br/>[1] Standard Errors assume that the covariance matrix of the errors is correctly specified."
      ],
      "text/plain": [
       "<class 'statsmodels.iolib.summary.Summary'>\n",
       "\"\"\"\n",
       "                            OLS Regression Results                            \n",
       "==============================================================================\n",
       "Dep. Variable:                  estim   R-squared:                       0.033\n",
       "Model:                            OLS   Adj. R-squared:                  0.033\n",
       "Method:                 Least Squares   F-statistic:                     98.69\n",
       "Date:                Thu, 22 Feb 2024   Prob (F-statistic):          1.23e-102\n",
       "Time:                        12:09:39   Log-Likelihood:                -65698.\n",
       "No. Observations:               14418   AIC:                         1.314e+05\n",
       "Df Residuals:                   14412   BIC:                         1.315e+05\n",
       "Df Model:                           5                                         \n",
       "Covariance Type:            nonrobust                                         \n",
       "==============================================================================\n",
       "                 coef    std err          t      P>|t|      [0.025      0.975]\n",
       "------------------------------------------------------------------------------\n",
       "bin1          -5.9361      0.532    -11.166      0.000      -6.978      -4.894\n",
       "bin2          -3.0796      0.531     -5.796      0.000      -4.121      -2.038\n",
       "bin3          -0.4988      0.348     -1.433      0.152      -1.181       0.184\n",
       "bin4           2.8458      0.461      6.175      0.000       1.942       3.749\n",
       "bin5           5.6653      0.531     10.662      0.000       4.624       6.707\n",
       "bin6           7.5739      0.532     14.247      0.000       6.532       8.616\n",
       "==============================================================================\n",
       "Omnibus:                     5050.296   Durbin-Watson:                   1.754\n",
       "Prob(Omnibus):                  0.000   Jarque-Bera (JB):           292783.194\n",
       "Skew:                           0.878   Prob(JB):                         0.00\n",
       "Kurtosis:                      25.006   Cond. No.                         1.53\n",
       "==============================================================================\n",
       "\n",
       "Notes:\n",
       "[1] Standard Errors assume that the covariance matrix of the errors is correctly specified.\n",
       "\"\"\""
      ]
     },
     "execution_count": 9,
     "metadata": {},
     "output_type": "execute_result"
    }
   ],
   "source": [
    "# define model formula and database (point to a dataframe)\n",
    "mod_nointercept = ???\n",
    "\n",
    "# fit the model\n",
    "res_nointercept = mod_nointercept.fit()\n",
    "\n",
    "# The coefficients\n",
    "res_nointercept.summary()"
   ]
  },
  {
   "cell_type": "markdown",
   "metadata": {},
   "source": [
    "Now we can check that that dreadful \"Note \\[2\\]\" is absent from both of these models. \n",
    "Both models are valid and equivalent, but how do their weights compare? Let us **plot these weights in a bar plot** (we will do it by converting weight objects to dataframe and then merging the two dataframes using `join`). Note that the bars are absent when the regressor is missing."
   ]
  },
  {
   "cell_type": "code",
   "execution_count": 10,
   "metadata": {},
   "outputs": [
    {
     "data": {
      "image/png": "[encoded data removed]",
      "text/plain": [
       "<Figure size 640x480 with 1 Axes>"
      ]
     },
     "metadata": {},
     "output_type": "display_data"
    }
   ],
   "source": [
    "# converts weights for model without bin1 to dataframe\n",
    "df1 = pd.DataFrame({'NoBin1':??})\n",
    "\n",
    "# converts weights for model without intercept to dataframe\n",
    "df2 = pd.DataFrame({'NoIntercept':??})\n",
    "\n",
    "# join the two dataframes (missing values are filled with nans)\n",
    "df_weights = df1.join(df2,how = 'outer')\n",
    "                         \n",
    "# plot\n",
    "df_weights.plot.bar();\n",
    "plt.ylabel('weights');"
   ]
  },
  {
   "cell_type": "markdown",
   "metadata": {},
   "source": [
    "**How do the weights of the two models differ?**"
   ]
  },
  {
   "cell_type": "markdown",
   "metadata": {},
   "source": [
    "*The value of the weights for bin1 in the no-intercept model is the same as the intercept in the no-bin1 model. For other bins, the weights differ by a constant term which corresponds to the intercept. In other words, the weight for binX in the no-intercept model is the sum of the corresponding weight and the intercept in the no-bin1 model. These two models are mathematically equivalent, but caution about how to interpret the bin weights: in one case, this is w.r.t to the weight of the reference value (no-bin1 model), while for the no-intercept model it is the raw value.*"
   ]
  },
  {
   "cell_type": "markdown",
   "metadata": {},
   "source": [
    "## 3. Checking for colinear or highly correlated regressors\n",
    "Because we won't always remember to look for a possible note at the bottom of a summary to check whether our model makes sense, it is good to **perform checks prior to fitting**. Moreover, while colinearity is a fatal issue for regression models (unless we introduce priors or regularizers over weights, but we don't cover these during our course), **strong correlations between regressors can also severely damage our ability to interpret regression results**. Basically, if a linear combination of regressors is not exactly null but close enough to zero for all trials, then regressors can be estimated, but with a very large uncertainty.\n",
    "This is why introducing too many regressors may lead to bad estimation through **overfitting**: as we add more and more regressors, we are bound to find *some* combination of regressors that is close enough to zero. This problem may be alleviated if we have a sufficiently large dataset.\n",
    "\n",
    "The good news is that we can check *a priori* whether regressors are colinear or highly correlated using the **Variance Inflation Factor** (VIF). The VIF is a metric for each regressor in a regression model that determines how much estimation will be affected by correlation with other regressors (technically, how much the variance of the weight is inflated by the presence of the other regressors). Its value is always larger than 1, and the smaller the better. It is 1 if the regressor under study is completely uncorrelated to other regressors. It is infinite when regressors are colinear, and very large if the regressor is strongly correlated to others. A rule of thumb is that *if any VIF is larger than 5 (sometimes we see 10), then the model cannot be properly estimated and one regressor must be excluded.* But this is just a rule of thumb, how severe the problem is depends on the actual dataset. In any case, large VIFs should at minimum raise caution. \n",
    "VIFs can be computed using `variance_inflation_factor` from the `statsmodel` package.\n",
    "**Check the VIF for the full set of stimulus bins as regressors.**"
   ]
  },
  {
   "cell_type": "code",
   "execution_count": 11,
   "metadata": {
    "scrolled": true
   },
   "outputs": [
    {
     "name": "stdout",
     "output_type": "stream",
     "text": [
      "VIF for bin  1 :  inf\n",
      "VIF for bin  2 :  inf\n",
      "VIF for bin  3 :  inf\n",
      "VIF for bin  4 :  inf\n",
      "VIF for bin  5 :  inf\n",
      "VIF for bin  6 :  inf\n"
     ]
    },
    {
     "name": "stderr",
     "output_type": "stream",
     "text": [
      "C:\\ProgramData\\Anaconda3\\lib\\site-packages\\statsmodels\\stats\\outliers_influence.py:195: RuntimeWarning: divide by zero encountered in double_scalars\n",
      "  vif = 1. / (1. - r_squared_i)\n"
     ]
    }
   ],
   "source": [
    "from statsmodels.stats.outliers_influence import variance_inflation_factor \n",
    "\n",
    "# define the set of regressors we want to test independent variables set \n",
    "X = df[['bin1', 'bin2','bin3','bin4','bin5','bin6']]\n",
    "\n",
    "# convert to array\n",
    "X = X.values\n",
    "\n",
    "# remember to add fixed regressor (for intercept)\n",
    "fixed_regressor = ??? # 2D array with same number of lines as X and one column\n",
    "X = np.concatenate((??,??),axis =1 )\n",
    "\n",
    "vif= []\n",
    "for i in range(nBin): # loop through bins\n",
    "    # compute VIF for corresponding regressor\n",
    "    V = variance_inflation_factor(X, i)\n",
    "    vif.append(V)\n",
    "\n",
    "    print(\"VIF for bin \", i+1, \": \", V)"
   ]
  },
  {
   "cell_type": "markdown",
   "metadata": {},
   "source": [
    "We see that indeed VIF values are infinite, which denotes multicollinearity.\n",
    "**Compute VIF values for the same set of regressors, excluding regressor for the first bin.**"
   ]
  },
  {
   "cell_type": "code",
   "execution_count": 12,
   "metadata": {},
   "outputs": [
    {
     "name": "stdout",
     "output_type": "stream",
     "text": [
      "VIF for bin  2 :  1.7397231250528662\n",
      "VIF for bin  3 :  2.318352133670704\n",
      "VIF for bin  4 :  1.926064272692391\n",
      "VIF for bin  5 :  1.7397231250528662\n",
      "VIF for bin  6 :  1.7390761548064917\n"
     ]
    }
   ],
   "source": [
    "from statsmodels.stats.outliers_influence import variance_inflation_factor \n",
    "\n",
    "# define the set of regressors we want to test independent variables set \n",
    "df_sub = df[['bin2','bin3','bin4','bin5','bin6']]\n",
    "\n",
    "# convert to array\n",
    "X = df_sub.values\n",
    "\n",
    "# remember to add fixed regressor (for intercept)\n",
    "????\n",
    "\n",
    "vif= []\n",
    "for i in range(??): # loop through bins\n",
    "    # compute VIF for corresponding regressor\n",
    "    V = variance_inflation_factor(X, i)\n",
    "    vif.append(V)\n",
    "\n",
    "    print(\"VIF for bin \", i+2, \": \", V)"
   ]
  },
  {
   "cell_type": "markdown",
   "metadata": {},
   "source": [
    "**What do you conclude about this set of regressors?**"
   ]
  },
  {
   "cell_type": "markdown",
   "metadata": {},
   "source": [
    "*The values of VIF are close to 2, which is clearly on the safe side (lower than 5). This shows that the model with this set of regressors is well defined.*"
   ]
  },
  {
   "cell_type": "markdown",
   "metadata": {},
   "source": [
    "The function below allows to plot VIF values for variables in a dataframe (the intercept is added within the function)."
   ]
  },
  {
   "cell_type": "code",
   "execution_count": 13,
   "metadata": {},
   "outputs": [],
   "source": [
    "def plot_vif(df):\n",
    "\n",
    "    # VIF dataframe \n",
    "    VIF_df = pd.DataFrame() \n",
    "    VIF_df[\"regressor\"] = df.columns \n",
    "\n",
    "    # convert to array\n",
    "    X = df.values\n",
    "    nReg = X.shape[1] # number of regressors\n",
    "\n",
    "    # add fixed regressor (for intercept)\n",
    "    fixed_regressor = np.ones((X.shape[0],1))\n",
    "    X = np.concatenate((X,fixed_regressor),axis =1 )\n",
    "\n",
    "    # calculating VIF for each feature \n",
    "    VIF_df[\"VIF\"] = [variance_inflation_factor(X, i) \n",
    "                            for i in range(nReg)] \n",
    "\n",
    "    VIF_df.plot.barh(x='regressor',y='VIF');\n",
    "    plt.xlabel('Variance Inflation Factor');\n",
    "    plt.plot((1,1),(-1,nReg),'r');"
   ]
  },
  {
   "cell_type": "code",
   "execution_count": 14,
   "metadata": {},
   "outputs": [
    {
     "data": {
      "image/png": "[encoded data removed]",
      "text/plain": [
       "<Figure size 640x480 with 1 Axes>"
      ]
     },
     "metadata": {},
     "output_type": "display_data"
    }
   ],
   "source": [
    "plot_vif(df_sub)"
   ]
  },
  {
   "cell_type": "markdown",
   "metadata": {},
   "source": [
    "## 4. Simulation-based power analysis\n",
    "We are now fast rewinding and putting ourselves in the shoes of the experimenter *before* she actually starts collecting any data (well maybe these are actually your shoes).\n",
    "How can I know **how many subjects to include in my sample to detect the effect of interest (if it is indeed present)**. This is the goal of *power analyses*. Statistical power refers to the probability that the effect, if present, is detected. The larger the better. The larger the sample size the larger the power. But we don't want to collect data from an infinite cohort of subjects either...\n",
    "When your test of interest is a simple t-test or anova, then you can use a software ([G\\*Power](https://www.psychologie.hhu.de/arbeitsgruppen/allgemeine-psychologie-und-arbeitspsychologie/gpower)) or online tools to run your power analyses. When you want to use the result of a more complex statistical analysis (as here), you can used simulation-based power analysis, which is presented in the panel B of the figure below (from [this](https://link.springer.com/article/10.3758/s13428-022-01793-9) little guide to behavioral experiments in humans we wrote)."
   ]
  },
  {
   "cell_type": "markdown",
   "metadata": {},
   "source": [
    "![Task](https://media.springernature.com/full/springer-static/image/art%3A10.3758%2Fs13428-022-01793-9/MediaObjects/13428_2022_1793_Fig2_HTML.png)"
   ]
  },
  {
   "cell_type": "markdown",
   "metadata": {},
   "source": [
    "Here **we will calculate the statistical power for detecting the confirmation bias in the dataset**. We will switch to the numerosity judgment dataset (of the same paper), the one we used in Assignment 2 to test for the confirmation bias.\n",
    "\n",
    "The code below loads the data, changes the reference of the variable to 50, splits the second stimulus into two regressors `x2con` and `x2inc` depending on whether they are consistent with the intermediate binary classification performed by the subject. Just as we did in Assignment 2 (note that you don't really need to delve back into the intricacies of this regression model to follow the logic of the power analysis. It's just a linear regression model, that's about all we need to know.)"
   ]
  },
  {
   "cell_type": "code",
   "execution_count": 15,
   "metadata": {},
   "outputs": [
    {
     "data": {
      "text/html": [
       "<div>\n",
       "<style scoped>\n",
       "    .dataframe tbody tr th:only-of-type {\n",
       "        vertical-align: middle;\n",
       "    }\n",
       "\n",
       "    .dataframe tbody tr th {\n",
       "        vertical-align: top;\n",
       "    }\n",
       "\n",
       "    .dataframe thead th {\n",
       "        text-align: right;\n",
       "    }\n",
       "</style>\n",
       "<table border=\"1\" class=\"dataframe\">\n",
       "  <thead>\n",
       "    <tr style=\"text-align: right;\">\n",
       "      <th></th>\n",
       "      <th>x1</th>\n",
       "      <th>binchoice</th>\n",
       "      <th>x2</th>\n",
       "      <th>xavg</th>\n",
       "      <th>estim</th>\n",
       "      <th>subj</th>\n",
       "      <th>consistent</th>\n",
       "      <th>x2con</th>\n",
       "      <th>x2inc</th>\n",
       "    </tr>\n",
       "  </thead>\n",
       "  <tbody>\n",
       "    <tr>\n",
       "      <th>0</th>\n",
       "      <td>-4.625</td>\n",
       "      <td>-1</td>\n",
       "      <td>-8.375</td>\n",
       "      <td>-6.5000</td>\n",
       "      <td>44</td>\n",
       "      <td>1</td>\n",
       "      <td>True</td>\n",
       "      <td>-8.375</td>\n",
       "      <td>-0.000</td>\n",
       "    </tr>\n",
       "    <tr>\n",
       "      <th>1</th>\n",
       "      <td>-2.500</td>\n",
       "      <td>1</td>\n",
       "      <td>-11.375</td>\n",
       "      <td>-6.9375</td>\n",
       "      <td>41</td>\n",
       "      <td>1</td>\n",
       "      <td>False</td>\n",
       "      <td>-0.000</td>\n",
       "      <td>-11.375</td>\n",
       "    </tr>\n",
       "    <tr>\n",
       "      <th>2</th>\n",
       "      <td>-2.250</td>\n",
       "      <td>1</td>\n",
       "      <td>7.500</td>\n",
       "      <td>2.6250</td>\n",
       "      <td>54</td>\n",
       "      <td>1</td>\n",
       "      <td>True</td>\n",
       "      <td>7.500</td>\n",
       "      <td>0.000</td>\n",
       "    </tr>\n",
       "    <tr>\n",
       "      <th>3</th>\n",
       "      <td>-3.375</td>\n",
       "      <td>-1</td>\n",
       "      <td>-11.625</td>\n",
       "      <td>-7.5000</td>\n",
       "      <td>40</td>\n",
       "      <td>1</td>\n",
       "      <td>True</td>\n",
       "      <td>-11.625</td>\n",
       "      <td>-0.000</td>\n",
       "    </tr>\n",
       "    <tr>\n",
       "      <th>4</th>\n",
       "      <td>-2.750</td>\n",
       "      <td>-1</td>\n",
       "      <td>-8.625</td>\n",
       "      <td>-5.6875</td>\n",
       "      <td>45</td>\n",
       "      <td>1</td>\n",
       "      <td>True</td>\n",
       "      <td>-8.625</td>\n",
       "      <td>-0.000</td>\n",
       "    </tr>\n",
       "  </tbody>\n",
       "</table>\n",
       "</div>"
      ],
      "text/plain": [
       "      x1  binchoice      x2    xavg  estim  subj  consistent   x2con   x2inc\n",
       "0 -4.625         -1  -8.375 -6.5000     44     1        True  -8.375  -0.000\n",
       "1 -2.500          1 -11.375 -6.9375     41     1       False  -0.000 -11.375\n",
       "2 -2.250          1   7.500  2.6250     54     1        True   7.500   0.000\n",
       "3 -3.375         -1 -11.625 -7.5000     40     1        True -11.625  -0.000\n",
       "4 -2.750         -1  -8.625 -5.6875     45     1        True  -8.625  -0.000"
      ]
     },
     "execution_count": 15,
     "metadata": {},
     "output_type": "execute_result"
    }
   ],
   "source": [
    "#load the data\n",
    "df = pd.read_csv(\"https://raw.githubusercontent.com/wimmerlab/MBC-DataAnalysis/main/A2_LinearRegression/Task_Numerical.csv\",sep=',')\n",
    "\n",
    "# use 50 as reference point\n",
    "df.x1 = df.x1 - 50\n",
    "df.x2 = df.x2 - 50\n",
    "df.xavg = df.xavg - 50\n",
    "\n",
    "# sign of x2\n",
    "sgn = np.sign(df['x2'])\n",
    "\n",
    "# define boolean array for consistency\n",
    "consistent = sgn ==df['binchoice']\n",
    "\n",
    "# add to dataframe\n",
    "df['consistent'] = consistent\n",
    "\n",
    "# x2con: equal to x2 if consistent, 0 otherwise\n",
    "x2con = df['x2'] * consistent\n",
    "\n",
    "# x2inc: equal to x2 if inconsistent, 0 otherwise \n",
    "x2inc = df['x2'] * ~consistent # could use (1-consistent) instead of ~consistent\n",
    "\n",
    "# add as variables in dataframe\n",
    "df['x2con'] = x2con\n",
    "df['x2inc'] = x2inc\n",
    "\n",
    "df.head()"
   ]
  },
  {
   "cell_type": "markdown",
   "metadata": {},
   "source": [
    "Now if we want to run a simulation-based power analysis we need to be able to simulate the model. Makes sense. Here I adapted the code we used to simulate the simple linear regression model to the case of multiple regression (so multiple regressors)."
   ]
  },
  {
   "cell_type": "code",
   "execution_count": 16,
   "metadata": {},
   "outputs": [],
   "source": [
    "#import function\n",
    "from numpy.random import normal\n",
    "\n",
    "# define function that simulates the linear regression model\n",
    "def generate_multiple_linear_model(x, intercept, weights, sigma):\n",
    "    \"\"\"\n",
    "    Simulates a multiple linear model \n",
    "    Args:\n",
    "       X (array): value(s) of the regressor\n",
    "       intercept (float): intercept\n",
    "       weights (array): weights for all regressors\n",
    "       sigma (float): standard deviation of noise parameter\n",
    "    \"\"\"  \n",
    "    # use linear relationship (using matrix multiplication)\n",
    "    y = intercept + np.matmul(x,weights)\n",
    "    \n",
    "    # add gaussian noise with standard deviation=sigma\n",
    "    n = x.shape[0]\n",
    "    y = y + sigma*normal(size=n)\n",
    "    \n",
    "    # output the result\n",
    "    return y"
   ]
  },
  {
   "cell_type": "markdown",
   "metadata": {},
   "source": [
    "**Let us simulate the model**. For this, we need to specify model parameters. This is the weak part of power analysis: you need to know the true values of the model parameters to know how likely you are to detect an effect... sounds a bit circular. So, in general we use plausible values, either from the literature or from pilot participants. The most crucial choice is the strength of the effect (so here the difference between the weights of the second stimulus when it's consistent vs. inconsistent with the intermediate choice, `w_x2con` and `w_x2inc`). Needless to say, the larger this difference, the more probable it is to be detected statistically. Here we test with a difference of .1."
   ]
  },
  {
   "cell_type": "code",
   "execution_count": 17,
   "metadata": {},
   "outputs": [],
   "source": [
    "effect_size = .1 # size of difference between weights of second stimulus depending on its consistency with intermediate choice\n",
    "w_x1 = .5 # weight for the first stimulus\n",
    "w_x2con = .5 # weight for the second stimulus, if consistent\n",
    "w_x2inc = .5 - effect_size # weight for the second stimulus, if inconsistent\n",
    "intercept = 50 # intercept (50 because this is the reference point, corresponds to an unbiased model)\n",
    "\n",
    "sigma = 5 # value of the gaussian noise\n",
    "\n",
    "weights = [w_x1,w_x2con,w_x2inc] # array of weights\n",
    "\n",
    "# define design matrix, i.e. put all regressors into a numpy array\n",
    "X = df[['x1','x2con','x2inc']]\n",
    "X = X.to_numpy()\n",
    "\n",
    "# simulate!\n",
    "y_simul = ???"
   ]
  },
  {
   "cell_type": "markdown",
   "metadata": {},
   "source": [
    "Simulation is the first part of the process. The second part is **fitting the regression model on the simulated data and applying the exact same statistical test that we want to apply on the true experimental data**. Here the test was a paired t-test between the set of consistent/inconsistent weights for the second stimulus, across subjects. I have copied the code from Assignment 2 into a function that takes an experimental dataframe (either from experimental or simulated data) as input and spits out the p-value for the corresponding test. Basically it tells us whether the effect is statistically significant in any dataset."
   ]
  },
  {
   "cell_type": "code",
   "execution_count": 18,
   "metadata": {},
   "outputs": [],
   "source": [
    "# Importing library \n",
    "import scipy.stats as stats\n",
    "\n",
    "# define function that provides p-value for effect of confirmation bias in given dataset\n",
    "def fit_confirmation_bias_model(df):\n",
    "    \"\"\"\n",
    "    Fits the regression model for confirmation bias \n",
    "    Args:\n",
    "       df (dataframe): experimental dataset\n",
    "    \"\"\"  \n",
    "\n",
    "    # list of subjects\n",
    "    subjects = np.unique(df.subj)\n",
    "\n",
    "    # create array for weights for each subject (how many weights per subject?)\n",
    "    pars = np.zeros((len(subjects),4))\n",
    "\n",
    "    # loop through all subjects\n",
    "    for i,s in enumerate(subjects):\n",
    "\n",
    "        # dataframe for this subject\n",
    "        df_subj = df[df.subj==s]\n",
    "\n",
    "        # define and fit regression model\n",
    "        mod = ols(formula = 'estim ~ x1 + x2con + x2inc', data=df_subj)\n",
    "        res = mod.fit()\n",
    "\n",
    "        # store values of the parameters\n",
    "        pars[i,:] = res.params\n",
    "\n",
    "    # compute mean across subjects\n",
    "    mean_weights = np.mean(pars,axis=0)\n",
    "\n",
    "    T = stats.ttest_rel(pars[:,2], pars[:,3]) \n",
    "\n",
    "    return  T.pvalue, pars"
   ]
  },
  {
   "cell_type": "markdown",
   "metadata": {},
   "source": [
    "Now let us plug the two processes: we fit the regression models on the synthetic dataset (from simulations) and compute the corresponding p-value."
   ]
  },
  {
   "cell_type": "code",
   "execution_count": 19,
   "metadata": {},
   "outputs": [
    {
     "name": "stdout",
     "output_type": "stream",
     "text": [
      "p-value 0.006542304873937733\n"
     ]
    }
   ],
   "source": [
    "# copy the experimental dataframe\n",
    "df_simul = df\n",
    "\n",
    "# copy the value of the simulated model as if it were the estimation from the subject\n",
    "df_simul['estim'] = ??\n",
    "\n",
    "# compute the pvalue for the confirmation bias on this dataset\n",
    "pval, est_weights = ???\n",
    "\n",
    "print(\"p-value\",??)"
   ]
  },
  {
   "cell_type": "markdown",
   "metadata": {},
   "source": [
    "Great! We're almost there. You can simulate the model again by running the corresponding cell above and see that the p-value is different everytime. Sometimes it is significant, but not always. Let us do it in a consistent way: **build a function that repeatedly simulates a synthetic dataset and estimate the significance of the confirmation bias in this synthetic dataset, and outputs the collection of p-values for all simulated datasets**."
   ]
  },
  {
   "cell_type": "code",
   "execution_count": 22,
   "metadata": {},
   "outputs": [],
   "source": [
    "# function that simulates and fits model multiple time\n",
    "def simulate_and_fit_confirmation_bias_model(df, intercept, weights, sigma, nSimul=100):\n",
    "    \"\"\"\n",
    "    Simulates and test for the confirmation bias, for a given number of synthetic dataset\n",
    "    Args:\n",
    "       df (dataframe): experimental dataset\n",
    "       intercept (float): value of intercept\n",
    "       weights (array of 3): value of the weights\n",
    "       sigma (float): std of observation noise (gaussian)\n",
    "       nSimul (integer): number of datasets\n",
    "    \"\"\"  \n",
    "    # p-values for all datasets\n",
    "    all_pvalues = []\n",
    "    for s in range(??): # for all datasets\n",
    "        \n",
    "        # simulate model\n",
    "        y_simul = ??\n",
    "\n",
    "        # add simulated behavior as dependent variable in the dataframe\n",
    "        ??\n",
    "        \n",
    "        # test for confirmation bias in the dataset\n",
    "        pval, _ = ??\n",
    "\n",
    "        # add p-value\n",
    "        all_pvalues.append(??)\n",
    "        \n",
    "    all_pvalues = np.array(all_pvalues) # convert to numpy\n",
    "    return all_pvalues"
   ]
  },
  {
   "cell_type": "markdown",
   "metadata": {},
   "source": [
    "Ok, let's run this (this should take around a minute or so)! **Plot the histogram of p-values and add a vertical line for the significance criterion (at 0.05)**."
   ]
  },
  {
   "cell_type": "code",
   "execution_count": 23,
   "metadata": {},
   "outputs": [
    {
     "data": {
      "image/png": "[encoded data removed]",
      "text/plain": [
       "<Figure size 640x480 with 1 Axes>"
      ]
     },
     "metadata": {},
     "output_type": "display_data"
    }
   ],
   "source": [
    "# simulate all datasets and compute corresponding p-values\n",
    "all_p = ???\n",
    "\n",
    "# add histogram\n",
    "bins = .05*np.arange(21) # bins: 0, 0.05, .1, ...\n",
    "plt.hist(??, bins=bins);\n",
    "\n",
    "# add vertical line\n",
    "plt.vlines(.05,0, 70,color='r');"
   ]
  },
  {
   "cell_type": "markdown",
   "metadata": {},
   "source": [
    "Finally, **compute the statistical power for this analysis**, i.e. the proportion of simulations that yield a significant effect."
   ]
  },
  {
   "cell_type": "code",
   "execution_count": 24,
   "metadata": {},
   "outputs": [
    {
     "name": "stdout",
     "output_type": "stream",
     "text": [
      "statistical power:  75.0 %\n"
     ]
    }
   ],
   "source": [
    "# define boolean array for significance\n",
    "signif = (??)\n",
    "\n",
    "# compute power (i.e average of significant datasets)\n",
    "power = ??\n",
    "\n",
    "print(\"statistical power: \", 100*power, \"%\")"
   ]
  },
  {
   "cell_type": "markdown",
   "metadata": {},
   "source": [
    "**How do you interpret this result?**"
   ]
  },
  {
   "cell_type": "markdown",
   "metadata": {},
   "source": [
    "*According to our simulations, if the effect is present with the same size as given by the parameters, there is about 72% probability to detect it in a 21-subject cohort (same as true experimental dataset). In general, we aim at statistical powers about 80-90% to maximize our chance to not miss the effect we're after.*"
   ]
  },
  {
   "cell_type": "markdown",
   "metadata": {},
   "source": [
    "**Check that the statistical power decreases if you decrease the effect size, and increase if your increase it.**"
   ]
  },
  {
   "cell_type": "markdown",
   "metadata": {},
   "source": [
    "## 5. Linear mixed models\n",
    "In *linear mixed models* (or any mixed model), we consider subjects as *random factors*, i.e. factors that are not of interest per se but that contribute to the variability. Instead of estimating one parameter per subject, these models directly estimate the (co)variance of the weights across the population (assuming, again, Gaussian statistics). In this way, one parameter of variance will take care of the variability of a given weight across participants. Linear models that include both fixed factors (the baseline effect in the whole population - what we are generally interested in) and random factors (a variance parameter accounting for a family of regressors) are called \"mixed models\". These are usually the way that we should model subjects in our designs. Mixed models in the case of linear regression are called linear mixed models."
   ]
  },
  {
   "cell_type": "markdown",
   "metadata": {},
   "source": [
    "Mixed models are not very well developed in Python. The R language is a lot better adapted for advanced statistics methods. You have two choices:\n",
    "1) Use the function *mixedlm* in the Python library **statsmodels.formula.api**. This should be very parallel to what you just did, but you need to choose the right options for *mixedlm*\n",
    "\n",
    "2) Use the Python library **pymer4.models**, which gives you access to R functions from within Python. You can then import the function *Lmer* and call it specifying the fixed and random factors in your design (check the documentation). This is a more powerful approach, because of the simplicity of the syntax and all the power of R that you can invoke."
   ]
  },
  {
   "cell_type": "markdown",
   "metadata": {},
   "source": [
    "1) Let us **implement a linear mixed model where the random factor for the intercept of each participant**. This is very similar to a traditional linear regression model with subject-specific biases (i.e. adding `C(subj)` in the formula), except that now we directly estimate the distribution of biases across the population, rather than each subject bias."
   ]
  },
  {
   "cell_type": "code",
   "execution_count": 25,
   "metadata": {
    "ExecuteTime": {
     "end_time": "2022-02-04T22:46:55.260351Z",
     "start_time": "2022-02-04T22:46:54.971773Z"
    },
    "colab": {},
    "colab_type": "code",
    "id": "OawmGQU2M0FF"
   },
   "outputs": [
    {
     "data": {
      "text/html": [
       "<table class=\"simpletable\">\n",
       "<tr>\n",
       "       <td>Model:</td>       <td>MixedLM</td> <td>Dependent Variable:</td>    <td>estim</td>  \n",
       "</tr>\n",
       "<tr>\n",
       "  <td>No. Observations:</td>  <td>1738</td>         <td>Method:</td>          <td>REML</td>   \n",
       "</tr>\n",
       "<tr>\n",
       "     <td>No. Groups:</td>      <td>21</td>          <td>Scale:</td>          <td>24.5893</td> \n",
       "</tr>\n",
       "<tr>\n",
       "  <td>Min. group size:</td>    <td>72</td>      <td>Log-Likelihood:</td>   <td>-5254.8194</td>\n",
       "</tr>\n",
       "<tr>\n",
       "  <td>Max. group size:</td>    <td>84</td>        <td>Converged:</td>          <td>Yes</td>   \n",
       "</tr>\n",
       "<tr>\n",
       "  <td>Mean group size:</td>   <td>82.8</td>            <td></td>                <td></td>     \n",
       "</tr>\n",
       "</table>\n",
       "<table class=\"simpletable\">\n",
       "<tr>\n",
       "      <td></td>       <th>Coef.</th> <th>Std.Err.</th>    <th>z</th>    <th>P>|z|</th> <th>[0.025</th> <th>0.975]</th>\n",
       "</tr>\n",
       "<tr>\n",
       "  <th>Intercept</th> <td>49.864</td>   <td>0.126</td>  <td>394.759</td> <td>0.000</td> <td>49.616</td> <td>50.111</td>\n",
       "</tr>\n",
       "<tr>\n",
       "  <th>x1</th>         <td>0.482</td>   <td>0.034</td>  <td>14.273</td>  <td>0.000</td>  <td>0.416</td>  <td>0.549</td>\n",
       "</tr>\n",
       "<tr>\n",
       "  <th>x2</th>         <td>0.455</td>   <td>0.017</td>  <td>26.801</td>  <td>0.000</td>  <td>0.421</td>  <td>0.488</td>\n",
       "</tr>\n",
       "<tr>\n",
       "  <th>Group Var</th>  <td>0.017</td>   <td>0.020</td>     <td></td>       <td></td>       <td></td>       <td></td>   \n",
       "</tr>\n",
       "</table>"
      ],
      "text/plain": [
       "<class 'statsmodels.iolib.summary2.Summary'>\n",
       "\"\"\"\n",
       "         Mixed Linear Model Regression Results\n",
       "========================================================\n",
       "Model:            MixedLM Dependent Variable: estim     \n",
       "No. Observations: 1738    Method:             REML      \n",
       "No. Groups:       21      Scale:              24.5893   \n",
       "Min. group size:  72      Log-Likelihood:     -5254.8194\n",
       "Max. group size:  84      Converged:          Yes       \n",
       "Mean group size:  82.8                                  \n",
       "--------------------------------------------------------\n",
       "             Coef.  Std.Err.    z    P>|z| [0.025 0.975]\n",
       "--------------------------------------------------------\n",
       "Intercept    49.864    0.126 394.759 0.000 49.616 50.111\n",
       "x1            0.482    0.034  14.273 0.000  0.416  0.549\n",
       "x2            0.455    0.017  26.801 0.000  0.421  0.488\n",
       "Group Var     0.017    0.020                            \n",
       "========================================================\n",
       "\n",
       "\"\"\""
      ]
     },
     "execution_count": 25,
     "metadata": {},
     "output_type": "execute_result"
    }
   ],
   "source": [
    "# import package\n",
    "from statsmodels.formula.api import mixedlm\n",
    "\n",
    "# define model: \n",
    "# - the fixed effects are given in the formula as for ols\n",
    "# - the random factor is defined by 'groups' (variable 'subj')\n",
    "# - the random effects (which weights should vary per subject) is defined by re_formula (here, just the intercept so \"~1\")\n",
    "mod_sub = mixedlm(formula='estim ~ x1 + x2', data=df, groups=df['subj'], re_formula=\"~1\")\n",
    "\n",
    "# fit the model\n",
    "res_sub = mod_sub.fit(maxiter=500,method=\"nm\", reml=\"false\")\n",
    "\n",
    "# show summary\n",
    "res_sub.summary()"
   ]
  },
  {
   "cell_type": "markdown",
   "metadata": {},
   "source": [
    "This model gives us a similar result to what we got when we modeled subjects as fixed factors in Assignment 2. But actually subjects will differ not only because of their overall bias, but also because of a different weighting of stimulus information. So a better model will incorporate this variability, by adding the first and second stimuli as random factors."
   ]
  },
  {
   "cell_type": "code",
   "execution_count": 26,
   "metadata": {
    "ExecuteTime": {
     "end_time": "2022-02-04T22:46:56.059655Z",
     "start_time": "2022-02-04T22:46:55.261765Z"
    }
   },
   "outputs": [
    {
     "name": "stderr",
     "output_type": "stream",
     "text": [
      "C:\\ProgramData\\Anaconda3\\lib\\site-packages\\statsmodels\\regression\\mixed_linear_model.py:2237: ConvergenceWarning: The MLE may be on the boundary of the parameter space.\n",
      "  warnings.warn(msg, ConvergenceWarning)\n"
     ]
    },
    {
     "data": {
      "text/html": [
       "<table class=\"simpletable\">\n",
       "<tr>\n",
       "       <td>Model:</td>       <td>MixedLM</td> <td>Dependent Variable:</td>    <td>estim</td>  \n",
       "</tr>\n",
       "<tr>\n",
       "  <td>No. Observations:</td>  <td>1738</td>         <td>Method:</td>          <td>REML</td>   \n",
       "</tr>\n",
       "<tr>\n",
       "     <td>No. Groups:</td>      <td>21</td>          <td>Scale:</td>          <td>24.5622</td> \n",
       "</tr>\n",
       "<tr>\n",
       "  <td>Min. group size:</td>    <td>72</td>      <td>Log-Likelihood:</td>   <td>-5254.8435</td>\n",
       "</tr>\n",
       "<tr>\n",
       "  <td>Max. group size:</td>    <td>84</td>        <td>Converged:</td>          <td>Yes</td>   \n",
       "</tr>\n",
       "<tr>\n",
       "  <td>Mean group size:</td>   <td>82.8</td>            <td></td>                <td></td>     \n",
       "</tr>\n",
       "</table>\n",
       "<table class=\"simpletable\">\n",
       "<tr>\n",
       "         <td></td>         <th>Coef.</th> <th>Std.Err.</th>    <th>z</th>    <th>P>|z|</th> <th>[0.025</th> <th>0.975]</th>\n",
       "</tr>\n",
       "<tr>\n",
       "  <th>Intercept</th>      <td>49.864</td>   <td>0.128</td>  <td>389.007</td> <td>0.000</td> <td>49.613</td> <td>50.115</td>\n",
       "</tr>\n",
       "<tr>\n",
       "  <th>x1</th>              <td>0.482</td>   <td>0.034</td>  <td>14.224</td>  <td>0.000</td>  <td>0.416</td>  <td>0.549</td>\n",
       "</tr>\n",
       "<tr>\n",
       "  <th>x2</th>              <td>0.455</td>   <td>0.017</td>  <td>26.171</td>  <td>0.000</td>  <td>0.421</td>  <td>0.489</td>\n",
       "</tr>\n",
       "<tr>\n",
       "  <th>Group Var</th>       <td>0.027</td>   <td>0.039</td>     <td></td>       <td></td>       <td></td>       <td></td>   \n",
       "</tr>\n",
       "<tr>\n",
       "  <th>Group x x1 Cov</th> <td>-0.002</td>   <td>0.009</td>     <td></td>       <td></td>       <td></td>       <td></td>   \n",
       "</tr>\n",
       "<tr>\n",
       "  <th>x1 Var</th>          <td>0.000</td>   <td>0.003</td>     <td></td>       <td></td>       <td></td>       <td></td>   \n",
       "</tr>\n",
       "<tr>\n",
       "  <th>Group x x2 Cov</th>  <td>0.001</td>   <td>0.004</td>     <td></td>       <td></td>       <td></td>       <td></td>   \n",
       "</tr>\n",
       "<tr>\n",
       "  <th>x1 x x2 Cov</th>    <td>-0.000</td>   <td>0.001</td>     <td></td>       <td></td>       <td></td>       <td></td>   \n",
       "</tr>\n",
       "<tr>\n",
       "  <th>x2 Var</th>          <td>0.000</td>   <td>0.001</td>     <td></td>       <td></td>       <td></td>       <td></td>   \n",
       "</tr>\n",
       "</table>"
      ],
      "text/plain": [
       "<class 'statsmodels.iolib.summary2.Summary'>\n",
       "\"\"\"\n",
       "          Mixed Linear Model Regression Results\n",
       "==========================================================\n",
       "Model:              MixedLM Dependent Variable: estim     \n",
       "No. Observations:   1738    Method:             REML      \n",
       "No. Groups:         21      Scale:              24.5622   \n",
       "Min. group size:    72      Log-Likelihood:     -5254.8435\n",
       "Max. group size:    84      Converged:          Yes       \n",
       "Mean group size:    82.8                                  \n",
       "----------------------------------------------------------\n",
       "               Coef.  Std.Err.    z    P>|z| [0.025 0.975]\n",
       "----------------------------------------------------------\n",
       "Intercept      49.864    0.128 389.007 0.000 49.613 50.115\n",
       "x1              0.482    0.034  14.224 0.000  0.416  0.549\n",
       "x2              0.455    0.017  26.171 0.000  0.421  0.489\n",
       "Group Var       0.027    0.039                            \n",
       "Group x x1 Cov -0.002    0.009                            \n",
       "x1 Var          0.000    0.003                            \n",
       "Group x x2 Cov  0.001    0.004                            \n",
       "x1 x x2 Cov    -0.000    0.001                            \n",
       "x2 Var          0.000    0.001                            \n",
       "==========================================================\n",
       "\n",
       "\"\"\""
      ]
     },
     "execution_count": 26,
     "metadata": {},
     "output_type": "execute_result"
    }
   ],
   "source": [
    "from statsmodels.formula.api import mixedlm\n",
    "\n",
    "# same as above, but now the random effects include x1 and x2\n",
    "mod_sub = mixedlm(formula='estim ~ x1 + x2', data=df, groups=df['subj'], re_formula=\"~x1+x2\")\n",
    "res_sub = mod_sub.fit(maxiter=500,method=\"nm\", reml=\"false\")\n",
    "\n",
    "res_sub.summary()"
   ]
  },
  {
   "cell_type": "markdown",
   "metadata": {},
   "source": [
    "2) we can repeat this analysis using the other method, which calls R from Python. Convince yourself that the results are similar (Note: installing pymer 4 may not work on all distributions)."
   ]
  },
  {
   "cell_type": "code",
   "execution_count": null,
   "metadata": {
    "ExecuteTime": {
     "end_time": "2022-02-04T22:47:00.607034Z",
     "start_time": "2022-02-04T22:46:56.061464Z"
    }
   },
   "outputs": [],
   "source": [
    "from pymer4.models import Lmer\n",
    "\n",
    "model = Lmer('estim ~ x1 + x2 + (1 + x1 + x2|subj)', data=df)\n",
    "res = model.fit()\n",
    "print(res)"
   ]
  }
 ],
 "metadata": {
  "colab": {
   "name": "assignment_4-full.ipynb",
   "provenance": []
  },
  "hide_input": false,
  "kernelspec": {
   "display_name": "Python 3 (ipykernel)",
   "language": "python",
   "name": "python3"
  },
  "language_info": {
   "codemirror_mode": {
    "name": "ipython",
    "version": 3
   },
   "file_extension": ".py",
   "mimetype": "text/x-python",
   "name": "python",
   "nbconvert_exporter": "python",
   "pygments_lexer": "ipython3",
   "version": "3.9.13"
  },
  "toc": {
   "base_numbering": 1,
   "nav_menu": {},
   "number_sections": true,
   "sideBar": true,
   "skip_h1_title": false,
   "title_cell": "Table of Contents",
   "title_sidebar": "Contents",
   "toc_cell": false,
   "toc_position": {},
   "toc_section_display": true,
   "toc_window_display": false
  },
  "varInspector": {
   "cols": {
    "lenName": 16,
    "lenType": 16,
    "lenVar": 40
   },
   "kernels_config": {
    "python": {
     "delete_cmd_postfix": "",
     "delete_cmd_prefix": "del ",
     "library": "var_list.py",
     "varRefreshCmd": "print(var_dic_list())"
    },
    "r": {
     "delete_cmd_postfix": ") ",
     "delete_cmd_prefix": "rm(",
     "library": "var_list.r",
     "varRefreshCmd": "cat(var_dic_list()) "
    }
   },
   "types_to_exclude": [
    "module",
    "function",
    "builtin_function_or_method",
    "instance",
    "_Feature"
   ],
   "window_display": false
  }
 },
 "nbformat": 4,
 "nbformat_minor": 1
}
