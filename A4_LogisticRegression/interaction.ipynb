{
 "cells": [
  {
   "cell_type": "markdown",
   "metadata": {},
   "source": [
    "# Interaction effects - Tutorial\n",
    "\n",
    "Before we dive into logistic regression, we will learn about statistical ***interaction effects***. In the assignment, we will use the same concept but in a (slightly more) complex setting.\n",
    "\n",
    "Let's see what we mean by interaction effect in a simple example.\n"
   ]
  },
  {
   "cell_type": "markdown",
   "metadata": {},
   "source": [
    "## Visualize the data\n",
    "\n",
    "We have a dataset in which we measure the performance of humans in some task, before and after some treatment (e.g. some drug). We would like to know whether the drug decreases the performance. To test this, we have designed an experiment with a treatment grouop that actually gets the drug administered and a placebo group that is not actually taking the drug.\n",
    "\n",
    "**Let's have a look at the data.**"
   ]
  },
  {
   "cell_type": "code",
   "execution_count": 1,
   "metadata": {},
   "outputs": [],
   "source": [
    "import numpy as np\n",
    "import pandas as pd\n",
    "import matplotlib.pyplot as plt\n",
    "from statsmodels.formula.api import ols\n",
    "from scipy.stats import ttest_ind\n",
    "\n",
    "data = pd.read_csv(\"https://raw.githubusercontent.com/wimmerlab/MBC-DataAnalysis/main/A4_LogisticRegression/interaction_data.csv\")\n"
   ]
  },
  {
   "cell_type": "markdown",
   "metadata": {},
   "source": [
    "**Compute the average performance and standard error for the different cases.**"
   ]
  },
  {
   "cell_type": "code",
   "execution_count": 2,
   "metadata": {},
   "outputs": [
    {
     "data": {
      "text/html": [
       "<div>\n",
       "<style scoped>\n",
       "    .dataframe tbody tr th:only-of-type {\n",
       "        vertical-align: middle;\n",
       "    }\n",
       "\n",
       "    .dataframe tbody tr th {\n",
       "        vertical-align: top;\n",
       "    }\n",
       "\n",
       "    .dataframe thead th {\n",
       "        text-align: right;\n",
       "    }\n",
       "</style>\n",
       "<table border=\"1\" class=\"dataframe\">\n",
       "  <thead>\n",
       "    <tr style=\"text-align: right;\">\n",
       "      <th></th>\n",
       "      <th></th>\n",
       "      <th>mean</th>\n",
       "      <th>sem</th>\n",
       "    </tr>\n",
       "    <tr>\n",
       "      <th>placebo</th>\n",
       "      <th>after</th>\n",
       "      <th></th>\n",
       "      <th></th>\n",
       "    </tr>\n",
       "  </thead>\n",
       "  <tbody>\n",
       "    <tr>\n",
       "      <th rowspan=\"2\" valign=\"top\">0.0</th>\n",
       "      <th>0.0</th>\n",
       "      <td>2.597026</td>\n",
       "      <td>0.066622</td>\n",
       "    </tr>\n",
       "    <tr>\n",
       "      <th>1.0</th>\n",
       "      <td>1.946188</td>\n",
       "      <td>0.118754</td>\n",
       "    </tr>\n",
       "    <tr>\n",
       "      <th rowspan=\"2\" valign=\"top\">1.0</th>\n",
       "      <th>0.0</th>\n",
       "      <td>2.689304</td>\n",
       "      <td>0.118754</td>\n",
       "    </tr>\n",
       "    <tr>\n",
       "      <th>1.0</th>\n",
       "      <td>2.423089</td>\n",
       "      <td>0.135801</td>\n",
       "    </tr>\n",
       "  </tbody>\n",
       "</table>\n",
       "</div>"
      ],
      "text/plain": [
       "                   mean       sem\n",
       "placebo after                    \n",
       "0.0     0.0    2.597026  0.066622\n",
       "        1.0    1.946188  0.118754\n",
       "1.0     0.0    2.689304  0.118754\n",
       "        1.0    2.423089  0.135801"
      ]
     },
     "execution_count": 2,
     "metadata": {},
     "output_type": "execute_result"
    }
   ],
   "source": [
    "grouped_data = data.groupby(['placebo', 'after'])['y'].agg(['mean', 'sem'])\n",
    "grouped_data"
   ]
  },
  {
   "cell_type": "markdown",
   "metadata": {},
   "source": [
    "**Visualize this data using a bar plot and error bars.**"
   ]
  },
  {
   "cell_type": "code",
   "execution_count": 3,
   "metadata": {},
   "outputs": [
    {
     "data": {
      "image/png": "[encoded data removed]",
      "text/plain": [
       "<Figure size 500x300 with 1 Axes>"
      ]
     },
     "metadata": {},
     "output_type": "display_data"
    }
   ],
   "source": [
    "# Plot histograms with error bars and different colors\n",
    "fig, ax = plt.subplots(figsize=(5, 3))\n",
    "bar_width = 0.8\n",
    "bar_positions = [0.0,1.0,2.5,3.5]\n",
    "\n",
    "colors = ['black', 'gray', 'black', 'gray']\n",
    "\n",
    "ax.bar(bar_positions, grouped_data['mean'], yerr=grouped_data['sem'], capsize=5, width=bar_width, color=colors)\n",
    "ax.set_ylabel('Performance')\n",
    "ax.set_xlabel('Condition')\n",
    "\n",
    "\n",
    "ax.set_xticks([0.5, 3])\n",
    "ax.set_xticklabels(['treatment', 'placebo'])\n",
    "\n",
    "plt.show()"
   ]
  },
  {
   "cell_type": "markdown",
   "metadata": {},
   "source": [
    "**What do you think? Does the drug have an effect?**"
   ]
  },
  {
   "cell_type": "markdown",
   "metadata": {},
   "source": [
    "## Wrong approach: test for significant differences and draw conclusions based on the outcome of these tests."
   ]
  },
  {
   "cell_type": "markdown",
   "metadata": {},
   "source": [
    "Let's do a t-test for the effectiveness of the drug (in the treatment group) and the effectiveness of the placebo (in the placebo group). What do you conclude?\n"
   ]
  },
  {
   "cell_type": "code",
   "execution_count": 4,
   "metadata": {},
   "outputs": [
    {
     "name": "stdout",
     "output_type": "stream",
     "text": [
      "treatment p =  0.00014987724270248436\n",
      "placebo p =  0.15730737231681893\n"
     ]
    }
   ],
   "source": [
    "\n",
    "t, p_val_treatment = ttest_ind(data[(data.placebo == 0) & (data.after == 0)].y, data[(data.placebo == 0) & (data.after == 1)].y)\n",
    "t, p_val_placebo = ttest_ind(data[(data.placebo == 1) & (data.after == 0)].y, data[(data.placebo == 1) & (data.after == 1)].y)\n",
    "\n",
    "print(\"treatment p = \", p_val_treatment)\n",
    "print(\"placebo p = \", p_val_placebo)\n"
   ]
  },
  {
   "cell_type": "markdown",
   "metadata": {},
   "source": [
    "## Now let's do it the correct way: using a regression anlaysis with an interaction term\n",
    "\n",
    "The above procedure, involving two separate tests in which one effect is significant (P < 0.05) but the other is not (P > 0.05) does not allow us to conclude that the effect of the drug is different from the effect of the placebo. \n",
    "\n",
    "In short, the difference between significant and not significant need not itself be statistically significant!\n",
    "\n",
    "So what's the correct way? A comparison of two experimental effects requires a statistical test on their difference. We can do this testing for an interaction between the time point of testing (before vs. after) and the condition (drug vs. placebo)."
   ]
  },
  {
   "cell_type": "code",
   "execution_count": 5,
   "metadata": {},
   "outputs": [
    {
     "name": "stdout",
     "output_type": "stream",
     "text": [
      "                            OLS Regression Results                            \n",
      "==============================================================================\n",
      "Dep. Variable:                      y   R-squared:                       0.417\n",
      "Model:                            OLS   Adj. R-squared:                  0.368\n",
      "Method:                 Least Squares   F-statistic:                     8.567\n",
      "Date:                Wed, 07 Feb 2024   Prob (F-statistic):           0.000201\n",
      "Time:                        15:32:35   Log-Likelihood:                -13.491\n",
      "No. Observations:                  40   AIC:                             34.98\n",
      "Df Residuals:                      36   BIC:                             41.74\n",
      "Df Model:                           3                                         \n",
      "Covariance Type:            nonrobust                                         \n",
      "=================================================================================\n",
      "                    coef    std err          t      P>|t|      [0.025      0.975]\n",
      "---------------------------------------------------------------------------------\n",
      "Intercept         2.5970      0.113     22.980      0.000       2.368       2.826\n",
      "placebo           0.0923      0.160      0.577      0.567      -0.232       0.416\n",
      "after            -0.6508      0.160     -4.072      0.000      -0.975      -0.327\n",
      "placebo:after     0.3846      0.226      1.702      0.097      -0.074       0.843\n",
      "==============================================================================\n",
      "Omnibus:                        0.819   Durbin-Watson:                   2.327\n",
      "Prob(Omnibus):                  0.664   Jarque-Bera (JB):                0.782\n",
      "Skew:                           0.066   Prob(JB):                        0.676\n",
      "Kurtosis:                       2.328   Cond. No.                         6.85\n",
      "==============================================================================\n",
      "\n",
      "Notes:\n",
      "[1] Standard Errors assume that the covariance matrix of the errors is correctly specified.\n"
     ]
    }
   ],
   "source": [
    "\n",
    "# Fit the linear regression model with interaction term\n",
    "model = ols(formula = 'y ~ placebo * after', data=data)\n",
    "result = model.fit()\n",
    "\n",
    "# Display the regression summary\n",
    "print(result.summary())\n"
   ]
  },
  {
   "cell_type": "markdown",
   "metadata": {},
   "source": [
    "**There is actually no significant interaction effect, e.g. the drug had no statistically significant impact on the performance compared to the placebo.**"
   ]
  },
  {
   "cell_type": "code",
   "execution_count": null,
   "metadata": {},
   "outputs": [],
   "source": []
  }
 ],
 "metadata": {
  "colab": {
   "name": "assignment5.ipynb",
   "provenance": []
  },
  "hide_input": false,
  "kernelspec": {
   "display_name": "Python 3 (ipykernel)",
   "language": "python",
   "name": "python3"
  },
  "language_info": {
   "codemirror_mode": {
    "name": "ipython",
    "version": 3
   },
   "file_extension": ".py",
   "mimetype": "text/x-python",
   "name": "python",
   "nbconvert_exporter": "python",
   "pygments_lexer": "ipython3",
   "version": "3.9.13"
  },
  "toc": {
   "base_numbering": 1,
   "nav_menu": {},
   "number_sections": true,
   "sideBar": true,
   "skip_h1_title": false,
   "title_cell": "Table of Contents",
   "title_sidebar": "Contents",
   "toc_cell": false,
   "toc_position": {},
   "toc_section_display": true,
   "toc_window_display": false
  },
  "varInspector": {
   "cols": {
    "lenName": 16,
    "lenType": 16,
    "lenVar": 40
   },
   "kernels_config": {
    "python": {
     "delete_cmd_postfix": "",
     "delete_cmd_prefix": "del ",
     "library": "var_list.py",
     "varRefreshCmd": "print(var_dic_list())"
    },
    "r": {
     "delete_cmd_postfix": ") ",
     "delete_cmd_prefix": "rm(",
     "library": "var_list.r",
     "varRefreshCmd": "cat(var_dic_list()) "
    }
   },
   "types_to_exclude": [
    "module",
    "function",
    "builtin_function_or_method",
    "instance",
    "_Feature"
   ],
   "window_display": false
  }
 },
 "nbformat": 4,
 "nbformat_minor": 4
}
